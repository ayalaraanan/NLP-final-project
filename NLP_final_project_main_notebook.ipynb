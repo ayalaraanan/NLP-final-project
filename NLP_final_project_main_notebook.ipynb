{
  "cells": [
    {
      "cell_type": "code",
      "execution_count": 7,
      "metadata": {
        "colab": {
          "base_uri": "https://localhost:8080/"
        },
        "id": "MbPByZLkSOSM",
        "outputId": "09dcd3c3-8152-4030-a2f2-696b174b51de"
      },
      "outputs": [
        {
          "output_type": "stream",
          "name": "stderr",
          "text": [
            "[nltk_data] Downloading package punkt to /root/nltk_data...\n",
            "[nltk_data]   Unzipping tokenizers/punkt.zip.\n",
            "[nltk_data] Downloading package averaged_perceptron_tagger to\n",
            "[nltk_data]     /root/nltk_data...\n",
            "[nltk_data]   Unzipping taggers/averaged_perceptron_tagger.zip.\n"
          ]
        }
      ],
      "source": [
        "import io\n",
        "import itertools\n",
        "import pickle\n",
        "import numpy as np\n",
        "import pandas as pd\n",
        "import matplotlib.pyplot as plt\n",
        "from numpy.linalg import norm\n",
        "import torch\n",
        "import torch.nn as nn\n",
        "import csv\n",
        "import nltk\n",
        "nltk.download('punkt')\n",
        "nltk.download('averaged_perceptron_tagger')\n",
        "from nltk import word_tokenize, pos_tag\n",
        "from nltk.stem import PorterStemmer\n",
        "# !pip install transformers"
      ]
    },
    {
      "cell_type": "code",
      "source": [
        "# %cd /content/drive/MyDrive/Colab Notebooks"
      ],
      "metadata": {
        "colab": {
          "base_uri": "https://localhost:8080/"
        },
        "id": "Oo_aD9MwT5tP",
        "outputId": "971e533f-434c-4b23-b469-d1a50b0f33f1"
      },
      "execution_count": 2,
      "outputs": [
        {
          "output_type": "stream",
          "name": "stdout",
          "text": [
            "/content/drive/MyDrive/Colab Notebooks\n"
          ]
        }
      ]
    },
    {
      "cell_type": "markdown",
      "metadata": {
        "id": "y0mhG3UXSOSQ"
      },
      "source": [
        "## Loading dataset\n",
        "\n",
        "Either NNSeval or BenchLS"
      ]
    },
    {
      "cell_type": "code",
      "execution_count": 3,
      "metadata": {
        "id": "a0xOuonxSOSS"
      },
      "outputs": [],
      "source": [
        "def load_dataset(data_fname): # either NNSeval or BenchLS\n",
        "    database = dict()\n",
        "    with open(data_fname,'rt') as f:\n",
        "        for line in f:\n",
        "            data = line.strip().split('\\t')\n",
        "            replacement_ranking = dict()\n",
        "            for rep in data[3:]:\n",
        "                rank_rep = rep.split(':')\n",
        "                replacement_ranking[rank_rep[1]] = int(rank_rep[0])\n",
        "            \n",
        "            database[data[0]] = (data[1], replacement_ranking)\n",
        "\n",
        "    print('loaded dataset {}'.format(data_fname))\n",
        "    print('Database has {} samples'.format(len(database)))\n",
        "    key0 = list(database.keys())[0]\n",
        "    print('Sample for example:\\n  ',key0, '\\n')\n",
        "    print('Candidate for replacement and options ranking:\\n  ', database[key0])\n",
        "    \n",
        "    return database"
      ]
    },
    {
      "cell_type": "code",
      "source": [
        "def load_LexMTurk(data_fname):\n",
        "    database = dict()\n",
        "    with open(data_fname,'rt', encoding='iso8859-1') as f:\n",
        "        # for line in f:\n",
        "        for line in itertools.islice(f, 1, 501):\n",
        "            # print(line)\n",
        "            data = line.strip().split('\\t')\n",
        "            reps = list(set(data[3:]))\n",
        "            database[data[0]] = (data[1], reps)\n",
        "\n",
        "    print('loaded dataset {}'.format(data_fname))\n",
        "    print('Database has {} samples'.format(len(database)))\n",
        "    key0 = list(database.keys())[0]\n",
        "    print('Sample for example:\\n  ',key0, '\\n')\n",
        "    print('Candidate for replacement and options ranking:\\n  ', database[key0])\n",
        "    \n",
        "    return database"
      ],
      "metadata": {
        "id": "86NNOGs-Z8WA"
      },
      "execution_count": null,
      "outputs": []
    },
    {
      "cell_type": "markdown",
      "metadata": {
        "id": "xCc4hxqlSOST"
      },
      "source": [
        "For now, let's load NNSeval:"
      ]
    },
    {
      "cell_type": "code",
      "execution_count": 4,
      "metadata": {
        "colab": {
          "base_uri": "https://localhost:8080/"
        },
        "id": "S7IEjZz9SOST",
        "outputId": "2a410841-8679-4f0b-9677-344a90d74b77"
      },
      "outputs": [
        {
          "output_type": "stream",
          "name": "stdout",
          "text": [
            "loaded dataset ./NLP_final_project/NNSeval.txt\n",
            "Database has 239 samples\n",
            "Sample for example:\n",
            "   harry also becomes the worthy possessor of the remaining deathly hallows : the invisibility cloak and the resurrection stone , hence becoming the true master of death . \n",
            "\n",
            "Candidate for replacement and options ranking:\n",
            "   ('possessor', {'owner': 1, 'holder': 2, 'buyer': 3, 'master': 3, 'teacher': 3})\n"
          ]
        }
      ],
      "source": [
        "database = load_dataset('./NLP_final_project/NNSeval.txt')"
      ]
    },
    {
      "cell_type": "markdown",
      "metadata": {
        "id": "T6hn1S15SOSV"
      },
      "source": [
        "## Load embedding\n",
        "\n",
        "Either Glove or Fasttext"
      ]
    },
    {
      "cell_type": "code",
      "execution_count": 5,
      "metadata": {
        "id": "GtYfreCGSOSW"
      },
      "outputs": [],
      "source": [
        "def load_embedding(embedding = 'fasttext'):\n",
        "  embeddings_index = dict()\n",
        "  if embedding == 'fasttext':\n",
        "    start = 1 # file has title row\n",
        "    fname = './NLP_final_project/crawl-300d-2M.vec'\n",
        "  elif embedding == 'glove':\n",
        "    start = 0\n",
        "    fname = './NLP_final_project/glove.6B.300d.txt'\n",
        "  else:\n",
        "    print('No such embedding')\n",
        "    return\n",
        "\n",
        "  with open(fname,'rt', encoding='utf8') as f:\n",
        "    for line in itertools.islice(f, start, 400000 + start):\n",
        "        values = line.split()\n",
        "        word = values[0]\n",
        "        coefs = np.asarray(values[1:], dtype='float32')\n",
        "        embeddings_index[word] = coefs\n",
        "  return embeddings_index"
      ]
    },
    {
      "cell_type": "markdown",
      "metadata": {
        "id": "MYORPfICSOSY"
      },
      "source": [
        "**Let's load fasttext to be able to play a little**"
      ]
    },
    {
      "cell_type": "code",
      "execution_count": 8,
      "metadata": {
        "id": "CBTK1JrASOSZ"
      },
      "outputs": [],
      "source": [
        "embeddings_index = load_embedding('fasttext')\n",
        "all_embeddings = np.stack(list(embeddings_index.values()))\n",
        "vocab = np.array(list(embeddings_index.keys()))\n",
        "all_norm = norm(all_embeddings, axis=1)"
      ]
    },
    {
      "cell_type": "markdown",
      "metadata": {
        "id": "IXhvDoSaSOSZ"
      },
      "source": [
        "Create some global lists and confirm all our candidates are in the embedded space:"
      ]
    },
    {
      "cell_type": "code",
      "execution_count": 9,
      "metadata": {
        "colab": {
          "base_uri": "https://localhost:8080/"
        },
        "id": "RBQYy4qCSOSa",
        "outputId": "3e4fcba3-83ec-404e-ca02-52543f2f2a55"
      },
      "outputs": [
        {
          "output_type": "stream",
          "name": "stdout",
          "text": [
            "All candidates are represented in the embedding vocabulary\n"
          ]
        }
      ],
      "source": [
        "# Some global lists\n",
        "candidates = []\n",
        "sug_words = []\n",
        "count_out_of_emb = 0\n",
        "keys_to_remove = []\n",
        "for i, key in enumerate(database.keys()):\n",
        "    candidate, reps = database[key]\n",
        "    if candidate in embeddings_index.keys():\n",
        "      candidates.append(candidate)\n",
        "      sug_words.append(reps)\n",
        "    else:\n",
        "      keys_to_remove.append(key)\n",
        "      count_out_of_emb += 1\n",
        "if count_out_of_emb:\n",
        "    print(f'{count_out_of_emb} candidates are not in the embedding vocabulary')\n",
        "else:\n",
        "    print('All candidates are represented in the embedding vocabulary')\n",
        "\n",
        "for key in keys_to_remove:\n",
        "  database.pop(key)"
      ]
    },
    {
      "cell_type": "markdown",
      "metadata": {
        "id": "gVv09-dOSOSb"
      },
      "source": [
        "### General helper functions for similarities and distances"
      ]
    },
    {
      "cell_type": "code",
      "execution_count": 10,
      "metadata": {
        "id": "0DL2gPCaSOSb"
      },
      "outputs": [],
      "source": [
        "def cos_similarity(a, b):\n",
        "    cosine = np.dot(a, b)/(norm(a)*norm(b))\n",
        "    return cosine"
      ]
    },
    {
      "cell_type": "code",
      "execution_count": 11,
      "metadata": {
        "id": "pZpWZCEySOSc"
      },
      "outputs": [],
      "source": [
        "def L2_similarity(a, b):\n",
        "    l2 = np.sqrt(np.sum((a-b)**2))\n",
        "    return l2"
      ]
    },
    {
      "cell_type": "code",
      "execution_count": 12,
      "metadata": {
        "id": "19U-aK_NSOSc"
      },
      "outputs": [],
      "source": [
        "def compute_all_distances(all_embeddings, word_emb):\n",
        "    dists = np.sqrt(np.sum((all_embeddings - word_emb)**2, axis = 1))\n",
        "    return dists"
      ]
    },
    {
      "cell_type": "code",
      "execution_count": 13,
      "metadata": {
        "id": "hJUQhY46SOSc"
      },
      "outputs": [],
      "source": [
        "def compute_all_cosines(all_embeddings, word_emb):\n",
        "    # all_norm = norm(all_embeddings, axis=1)\n",
        "    all_embeddings = all_embeddings/np.expand_dims(all_norm, axis = 1)\n",
        "    word_emb = word_emb/norm(word_emb)\n",
        "    all_cosines = all_embeddings@word_emb\n",
        "    return all_cosines"
      ]
    },
    {
      "cell_type": "code",
      "execution_count": 14,
      "metadata": {
        "id": "YZfbRkYJSOSc"
      },
      "outputs": [],
      "source": [
        "def word_relations(word1, word2):\n",
        "    vec1 = embeddings_index[word1]\n",
        "    vec2 = embeddings_index[word2]\n",
        "    print(word1, 'norm is: ', norm(vec1))\n",
        "    print(word2, 'norm is: ', norm(vec2))\n",
        "    print('cosine similarity is: ',cos_similarity(vec1, vec2))\n",
        "    print('Euclidian distance is: ',L2_similarity(vec1, vec2))"
      ]
    },
    {
      "cell_type": "code",
      "execution_count": 15,
      "metadata": {
        "id": "_fbrtQY7SOSd"
      },
      "outputs": [],
      "source": [
        "def compute_all_similarities(all_embeddings, add_dist = True):\n",
        "    all_dist = {}\n",
        "    all_cos = {}\n",
        "    for candidate in candidates:\n",
        "        word_emb = embeddings_index[candidate]     \n",
        "        cosines = compute_all_cosines(all_embeddings, word_emb)\n",
        "        all_cos[candidate] = cosines\n",
        "        if add_dist:\n",
        "          dists = compute_all_distances(all_embeddings, word_emb)\n",
        "          all_dist[candidate] = dists\n",
        "\n",
        "    # return all_cos\n",
        "    return all_dist, all_cos"
      ]
    },
    {
      "cell_type": "code",
      "execution_count": null,
      "metadata": {
        "id": "Xn4WS0V3SOSd"
      },
      "outputs": [],
      "source": [
        "all_dist, all_cos = compute_all_similarities(all_embeddings)"
      ]
    },
    {
      "cell_type": "code",
      "execution_count": null,
      "metadata": {
        "id": "FokR6mctSOSd"
      },
      "outputs": [],
      "source": [
        "def find_closest_words_from_embedding(dists, cosines, candidate, n, add_dist = True):   \n",
        "    ind_dist = np.array([]).astype(int)\n",
        "    ind_cos = np.argsort(cosines)[::-1][1:n]\n",
        "    if add_dist:\n",
        "      ind_dist = np.argsort(dists)[1:n] \n",
        "    ind = np.union1d(ind_dist, ind_cos)\n",
        "    limited_vocab = vocab[ind]\n",
        "\n",
        "    return limited_vocab"
      ]
    },
    {
      "cell_type": "code",
      "execution_count": null,
      "metadata": {
        "id": "2JmI9t6RSOSd"
      },
      "outputs": [],
      "source": [
        "def compute_model_suggested_n(all_embeddings, n_list, add_dist = True):\n",
        "  model_suggested_n = {}\n",
        "  for n in n_list:\n",
        "      sugg_fixed_n = {}\n",
        "      for candidate in set(candidates):\n",
        "          cosines = all_cos[candidate]\n",
        "          if add_dist:\n",
        "            dists = all_dist[candidate]\n",
        "          else:\n",
        "            dists = np.array([])\n",
        "          # limited_vocab = find_closest_words_from_embedding(cosines, candidate, n)\n",
        "          limited_vocab = find_closest_words_from_embedding(dists, cosines, candidate, n, add_dist)\n",
        "          sugg_fixed_n[candidate] = limited_vocab\n",
        "      model_suggested_n[n] = sugg_fixed_n\n",
        "\n",
        "  return model_suggested_n"
      ]
    },
    {
      "cell_type": "markdown",
      "metadata": {
        "id": "eFoO8L1jSOSf"
      },
      "source": [
        "The next function evaluates the potential coverage of the dataset suggested replacements, by the model's suggested replacments.\\\n",
        "If the model doesn't suggested even one of the dataset replacements, the function counts non matches. For the rest, it calculates the percentage of words covered per each instance, and finally returns the mean for all instances.\\\n",
        "With increasing n, we can see how our coverage improves. We can also compare between Glove and Fasttext."
      ]
    },
    {
      "cell_type": "code",
      "execution_count": null,
      "metadata": {
        "id": "CiO27wp_SOSf"
      },
      "outputs": [],
      "source": [
        "def evaluate_embedding_coverage(model_suggested_n):\n",
        "    mean_score = np.zeros((len(n_list)))\n",
        "    no_matches_n = np.zeros((len(n_list)))\n",
        "\n",
        "    for ms, n in enumerate(n_list):\n",
        "        score = np.zeros((len(database)))\n",
        "        count_no_matches = 0\n",
        "        sugg_fixed_n = model_suggested_n[n]\n",
        "        for i, candidate in enumerate(candidates):\n",
        "            suggested_words = sug_words[i]\n",
        "            limited_vocab = sugg_fixed_n[candidate]\n",
        "            counter = 0\n",
        "            for rep in suggested_words:\n",
        "                if rep in limited_vocab:\n",
        "                    counter +=1\n",
        "            if counter == 0:\n",
        "                count_no_matches+=1\n",
        "            score[i] = counter/len(suggested_words)\n",
        "        no_matches_n[ms] = count_no_matches\n",
        "        mean_score[ms] = np.mean(score)\n",
        "        \n",
        "    return mean_score, no_matches_n"
      ]
    },
    {
      "cell_type": "markdown",
      "source": [
        "## Compare fasttext to glove"
      ],
      "metadata": {
        "id": "ce05n17Flo1E"
      }
    },
    {
      "cell_type": "code",
      "source": [
        "embeddings = ['fasttext', 'glove']\n",
        "add_dist = True\n",
        "n_list = [50, 100, 150, 200, 350, 500, 750]\n",
        "\n",
        "for space in embeddings:\n",
        "  embeddings_index = load_embedding(space)\n",
        "  all_embeddings = np.stack(list(embeddings_index.values()))\n",
        "  vocab = np.array(list(embeddings_index.keys()))\n",
        "  all_norm = norm(all_embeddings, axis=1)\n",
        "  all_dist, all_cos = compute_all_similarities(all_embeddings, add_dist)\n",
        "  model_suggested_n = compute_model_suggested_n(all_embeddings, n_list)\n",
        "  mean_score, no_matches_n = evaluate_embedding_coverage(model_suggested_n)\n",
        "  path = './NLP_final_project/model_suggested_n_' + space\n",
        "  with open(path, 'wb') as f:\n",
        "    pickle.dump((n_list, model_suggested_n, mean_score, no_matches_n), f)"
      ],
      "metadata": {
        "id": "wXA5PNtWlv3N"
      },
      "execution_count": null,
      "outputs": []
    },
    {
      "cell_type": "code",
      "source": [
        "path = './NLP_final_project/model_suggested_n_fasttext'\n",
        "\n",
        "with open(path, 'rb') as f:\n",
        "  n_list, model_suggested_n, mean_score, no_matches_n = pickle.load(f)\n",
        "  print('loaded model replacements candidates')"
      ],
      "metadata": {
        "id": "TVfTtVrCou4h"
      },
      "execution_count": null,
      "outputs": []
    },
    {
      "cell_type": "code",
      "source": [
        "def plot_coverage_evaluation(path_prefix, options, labels):\n",
        "  colors = ['.-b', '.-r']\n",
        "  fig1, (ax1, ax2) = plt.subplots(1, 2, figsize=(14, 5))\n",
        "\n",
        "  for option, color, label in zip(options, colors, labels):\n",
        "    # path = './NLP_final_project/model_suggested_n_' + option\n",
        "    path = path_prefix + option\n",
        "\n",
        "    with open(path, 'rb') as f:\n",
        "      n_list, model_suggested_n, mean_score, no_matches_n = pickle.load(f)\n",
        "    \n",
        "    ax1.plot(n_list, mean_score, color, ms = 12, label = label)\n",
        "    ax2.plot(n_list, no_matches_n, color, ms = 12, label = label)\n",
        "  \n",
        "  ax1.set_xlabel('Number of top words', fontsize = 12)\n",
        "  ax1.set_ylabel('%')\n",
        "  ax1.set_title('Average percent of coverage - Recall')\n",
        "  ax1.legend(fontsize = 16)\n",
        "  ax1.grid('visible')\n",
        "\n",
        "  ax2.set_xlabel('Number of top words', fontsize = 12)\n",
        "  ax2.set_ylabel('#')\n",
        "  ax2.set_title('Number of candidates with 0 coverage \\n of dataset suggested words')\n",
        "  ax2.legend(fontsize = 14)\n",
        "  ax2.grid('visible')\n"
      ],
      "metadata": {
        "id": "WUEwG7-vvjUY"
      },
      "execution_count": null,
      "outputs": []
    },
    {
      "cell_type": "code",
      "source": [
        "path_prefix = './NLP_final_project/model_suggested_n_'\n",
        "options = ['fasttext', 'glove']\n",
        "labels = ['Fasttext', 'GloVe']\n",
        "plot_coverage_evaluation(path_prefix, options, labels)"
      ],
      "metadata": {
        "colab": {
          "base_uri": "https://localhost:8080/",
          "height": 368
        },
        "id": "Jne08tWSzCIO",
        "outputId": "bb088392-b11c-4197-d1fe-bfe7867c9a7a"
      },
      "execution_count": null,
      "outputs": [
        {
          "output_type": "display_data",
          "data": {
            "text/plain": [
              "<Figure size 1008x360 with 2 Axes>"
            ],
            "image/png": "[encoded data removed]"
          },
          "metadata": {
            "needs_background": "light"
          }
        }
      ]
    },
    {
      "cell_type": "markdown",
      "source": [
        "## Advantage in using L2 similarity"
      ],
      "metadata": {
        "id": "awIFdSBR6RL6"
      }
    },
    {
      "cell_type": "code",
      "source": [
        "add_distance = [False, True]\n",
        "n_list = [50, 100, 150, 200, 350, 500, 750]\n",
        "embeddings_index = load_embedding('fasttext')\n",
        "all_embeddings = np.stack(list(embeddings_index.values()))\n",
        "vocab = np.array(list(embeddings_index.keys()))\n",
        "all_norm = norm(all_embeddings, axis=1)\n",
        "\n",
        "for add_dist in add_distance:\n",
        "  all_dist, all_cos = compute_all_similarities(all_embeddings, add_dist)\n",
        "  model_suggested_n = compute_model_suggested_n(all_embeddings, n_list, add_dist)\n",
        "  mean_score, no_matches_n = evaluate_embedding_coverage(model_suggested_n)\n",
        "  path = './NLP_final_project/model_suggested_n_add_dist_' + str(add_dist)\n",
        "  with open(path, 'wb') as f:\n",
        "    pickle.dump((n_list, model_suggested_n, mean_score, no_matches_n), f)\n"
      ],
      "metadata": {
        "id": "jDVkuNxG6bBU"
      },
      "execution_count": null,
      "outputs": []
    },
    {
      "cell_type": "code",
      "source": [
        "path_prefix = './NLP_final_project/model_suggested_n_add_dist_'\n",
        "options = ['True', 'False']\n",
        "labels = ['Cosine similarity', 'Cosine + L2 similarity']\n",
        "plot_coverage_evaluation(path_prefix, options, labels)"
      ],
      "metadata": {
        "colab": {
          "base_uri": "https://localhost:8080/",
          "height": 368
        },
        "id": "LO_G-Fjk9RmE",
        "outputId": "0fd8ff11-e279-4e03-a447-bd688c5de1f3"
      },
      "execution_count": null,
      "outputs": [
        {
          "output_type": "display_data",
          "data": {
            "text/plain": [
              "<Figure size 1008x360 with 2 Axes>"
            ],
            "image/png": "[encoded data removed]"
          },
          "metadata": {
            "needs_background": "light"
          }
        }
      ]
    },
    {
      "cell_type": "markdown",
      "metadata": {
        "id": "RPu2ZY7iSOSh"
      },
      "source": [
        "## Stage 2 - Filtering by pos tagging and lemmatization"
      ]
    },
    {
      "cell_type": "code",
      "source": [
        "path = './NLP_final_project/model_suggested_n_fasttext'\n",
        "\n",
        "with open(path, 'rb') as f:\n",
        "  n_list, model_suggested_n, mean_score, no_matches_n = pickle.load(f)"
      ],
      "metadata": {
        "id": "-a4A1pGPkRb5"
      },
      "execution_count": 16,
      "outputs": []
    },
    {
      "cell_type": "code",
      "source": [
        "n_list"
      ],
      "metadata": {
        "colab": {
          "base_uri": "https://localhost:8080/"
        },
        "id": "8ETvQGX1CFkg",
        "outputId": "3c3fdbd0-4996-41d7-9288-819955284c16"
      },
      "execution_count": 17,
      "outputs": [
        {
          "output_type": "execute_result",
          "data": {
            "text/plain": [
              "[50, 100, 150, 200, 350, 500, 750]"
            ]
          },
          "metadata": {},
          "execution_count": 17
        }
      ]
    },
    {
      "cell_type": "code",
      "execution_count": 18,
      "metadata": {
        "id": "-ZvCNueLSOSh"
      },
      "outputs": [],
      "source": [
        "def filter_by_pos(sentence, candidate, reps):\n",
        "    text = word_tokenize(sentence)  # nltk tokenization\n",
        "    word_idx = text.index(candidate)\n",
        "    tagged = pos_tag(text)\n",
        "    filtered_same_pos = []\n",
        "    for r in reps:\n",
        "        rep_sentence = sentence.replace(candidate, r)\n",
        "        rep_text = word_tokenize(rep_sentence)\n",
        "        rep_tagged = pos_tag(rep_text)\n",
        "        if rep_tagged[word_idx][1] == tagged[word_idx][1]:\n",
        "            filtered_same_pos.append(r)\n",
        "    return filtered_same_pos"
      ]
    },
    {
      "cell_type": "code",
      "execution_count": 19,
      "metadata": {
        "id": "67mQB8z7SOSi"
      },
      "outputs": [],
      "source": [
        "sentence = 'escapologists escape from handcuffs , straitjackets , cages , coffins , steel boxes , barrels , bags , burning buildings , fish-tanks and other perils , often in combination .'\n",
        "word = 'perils'\n",
        "limited_vocab = model_suggested_n[100]['perils']\n",
        "filtered_vocab = filter_by_pos(sentence, word, limited_vocab)"
      ]
    },
    {
      "cell_type": "code",
      "execution_count": 21,
      "metadata": {
        "id": "EVUrZfsYSOSi"
      },
      "outputs": [],
      "source": [
        "ps = PorterStemmer()\n",
        "def filter_by_lemma(candidate, reps):\n",
        "    filtered_for_stem = []\n",
        "    candidate_token = word_tokenize(candidate)\n",
        "    candidate_stem = ps.stem(candidate_token[0])\n",
        "    # print(candidate_stem)\n",
        "    for rep in reps:\n",
        "        rep_stem = ps.stem(rep)\n",
        "        # print(rep_stem)\n",
        "        if rep_stem != candidate_stem:\n",
        "            filtered_for_stem.append(rep)\n",
        "    \n",
        "    return filtered_for_stem"
      ]
    },
    {
      "cell_type": "markdown",
      "source": [
        "Fasttext contain the upper case as well, but this is taken care of by lemma filtering."
      ],
      "metadata": {
        "id": "SUPuqFjSnMSJ"
      }
    },
    {
      "cell_type": "markdown",
      "source": [
        "Since we are already transfering to context filtering, keys will be sentences from now on."
      ],
      "metadata": {
        "id": "9bgGYXu69PMr"
      }
    },
    {
      "cell_type": "code",
      "execution_count": null,
      "metadata": {
        "id": "HPAhgkRbSOSj"
      },
      "outputs": [],
      "source": [
        "model_suggested_n_filtered = dict()\n",
        "ns = sorted(model_suggested_n.keys())\n",
        "n_max = max(ns)\n",
        "for i, sentence in enumerate(database.keys()):\n",
        "    candidate = candidates[i]\n",
        "    limited_vocab = model_suggested_n[n_max][candidate]\n",
        "    filtered_pos = filter_by_pos(sentence, candidate, limited_vocab)\n",
        "    filtered_lemma = filter_by_lemma(candidate, filtered_pos)\n",
        "    # model_suggested_n_filtered[n_max][candidate] = filtered_lemma\n",
        "    model_suggested_n_filtered.setdefault(n_max, dict())[sentence] = filtered_lemma\n",
        "    for n in ns[:-1]:\n",
        "        limited_vocab = model_suggested_n[n][candidate]\n",
        "        n_filtered = [word for word in limited_vocab if word in filtered_lemma] # intersection between suggested and filtered of maximal length\n",
        "        model_suggested_n_filtered.setdefault(n, dict())[sentence] = n_filtered\n",
        "\n",
        "path = './NLP_final_project/model_suggested_n_filtered'\n",
        "with open(path, 'wb') as f:\n",
        "  pickle.dump((ns, model_suggested_n_filtered), f)"
      ]
    },
    {
      "cell_type": "code",
      "source": [
        "sentence = 'escapologists escape from handcuffs , straitjackets , cages , coffins , steel boxes , barrels , bags , burning buildings , fish-tanks and other perils , often in combination .'\n",
        "word = 'perils'\n",
        "limited_vocab = model_suggested_n[50]['perils']\n",
        "filtered_vocab = filter_by_pos(sentence, word, limited_vocab)\n",
        "left_out = [w for w in limited_vocab if w not in filtered_vocab]\n",
        "from wordcloud import WordCloud\n",
        "text = \" \".join(filtered_vocab)\n",
        "word_cloud = WordCloud(collocations = False, background_color = 'white').generate(text)\n",
        "plt.imshow(word_cloud, interpolation='bilinear')\n",
        "plt.axis(\"off\")\n",
        "plt.show()"
      ],
      "metadata": {
        "colab": {
          "base_uri": "https://localhost:8080/",
          "height": 198
        },
        "id": "gSX3htnoqyRc",
        "outputId": "fe4229c3-29ee-421b-ad4c-730e5201857d"
      },
      "execution_count": null,
      "outputs": [
        {
          "output_type": "display_data",
          "data": {
            "text/plain": [
              "<Figure size 432x288 with 1 Axes>"
            ],
            "image/png": "[encoded data removed]"
          },
          "metadata": {
            "needs_background": "light"
          }
        }
      ]
    },
    {
      "cell_type": "code",
      "source": [
        "text2 = \" \".join(left_out)\n",
        "word_cloud2 = WordCloud(collocations = False, background_color = 'white').generate(text2)\n",
        "plt.imshow(word_cloud2, interpolation='bilinear')\n",
        "plt.axis(\"off\")\n",
        "plt.show()"
      ],
      "metadata": {
        "colab": {
          "base_uri": "https://localhost:8080/",
          "height": 198
        },
        "id": "nh5mPn_nuGc8",
        "outputId": "3608dcbe-ea25-49d1-c374-523e488aff9f"
      },
      "execution_count": null,
      "outputs": [
        {
          "output_type": "display_data",
          "data": {
            "text/plain": [
              "<Figure size 432x288 with 1 Axes>"
            ],
            "image/png": "[encoded data removed]"
          },
          "metadata": {
            "needs_background": "light"
          }
        }
      ]
    },
    {
      "cell_type": "code",
      "source": [
        "path = './NLP_final_project/model_suggested_n_filtered'\n",
        "with open(path, 'rb') as f:\n",
        "  ns, model_suggested_n_filtered = pickle.load(f)"
      ],
      "metadata": {
        "id": "ff4XSaBeJX41"
      },
      "execution_count": null,
      "outputs": []
    },
    {
      "cell_type": "code",
      "source": [
        "filter_percent = np.zeros((len(ns)))\n",
        "for j, n in enumerate(ns):\n",
        "  sug_dict_filt = model_suggested_n_filtered[n]\n",
        "  sug_dict = model_suggested_n[n]\n",
        "  sum_percent = 0\n",
        "  for i, sentence in enumerate(database.keys()):\n",
        "    candidate = candidates[i]\n",
        "    list_n = sug_dict[candidate]\n",
        "    list_n_filt = sug_dict_filt[sentence]\n",
        "    sum_percent += len(list_n_filt)/len(list_n)\n",
        "  filter_percent[j] = 1-sum_percent/len(database)"
      ],
      "metadata": {
        "id": "DLCA6tHMIxKi"
      },
      "execution_count": null,
      "outputs": []
    },
    {
      "cell_type": "code",
      "source": [
        "filter_percent"
      ],
      "metadata": {
        "colab": {
          "base_uri": "https://localhost:8080/"
        },
        "id": "bmJx7YlsJCaj",
        "outputId": "19d61d06-7776-4258-ba45-47d15de1a834"
      },
      "execution_count": null,
      "outputs": [
        {
          "output_type": "execute_result",
          "data": {
            "text/plain": [
              "array([0.4491119 , 0.47299571, 0.48611071, 0.49581899, 0.51391443,\n",
              "       0.52505834, 0.53657276])"
            ]
          },
          "metadata": {},
          "execution_count": 26
        }
      ]
    },
    {
      "cell_type": "code",
      "source": [
        "fig1, ax1 = plt.subplots(figsize=(6, 4))\n",
        "  \n",
        "ax1.plot(ns, filter_percent, '.-', ms = 12)\n",
        "\n",
        "ax1.set_xlabel('Number of top words', fontsize = 12)\n",
        "ax1.set_ylabel('%', fontsize = 14)\n",
        "ax1.set_title('Average percent of Filtered Words', fontsize = 14)\n",
        "# ax1.legend(fontsize = 16)\n",
        "ax1.grid('visible')"
      ],
      "metadata": {
        "colab": {
          "base_uri": "https://localhost:8080/",
          "height": 299
        },
        "id": "aT-h5GBqJ85U",
        "outputId": "24e40e0c-63bf-485a-dc3b-4ab5db9d051b"
      },
      "execution_count": null,
      "outputs": [
        {
          "output_type": "display_data",
          "data": {
            "text/plain": [
              "<Figure size 432x288 with 1 Axes>"
            ],
            "image/png": "[encoded data removed]"
          },
          "metadata": {
            "needs_background": "light"
          }
        }
      ]
    },
    {
      "cell_type": "markdown",
      "metadata": {
        "id": "Mp8rUlJjSOSk"
      },
      "source": [
        "## Stage 3 - BERT\n",
        "\n",
        "Processing inspired by: https://mccormickml.com/2019/05/14/BERT-word-embeddings-tutorial/ "
      ]
    },
    {
      "cell_type": "code",
      "source": [
        "!pip install transformers"
      ],
      "metadata": {
        "colab": {
          "base_uri": "https://localhost:8080/"
        },
        "id": "mNEiC1ez2GOF",
        "outputId": "1d624c64-90b6-4b3d-b54f-12c6ce1bb407"
      },
      "execution_count": 34,
      "outputs": [
        {
          "output_type": "stream",
          "name": "stdout",
          "text": [
            "Looking in indexes: https://pypi.org/simple, https://us-python.pkg.dev/colab-wheels/public/simple/\n",
            "Collecting transformers\n",
            "  Downloading transformers-4.21.1-py3-none-any.whl (4.7 MB)\n",
            "\u001b[K     |████████████████████████████████| 4.7 MB 7.3 MB/s \n",
            "\u001b[?25hCollecting huggingface-hub<1.0,>=0.1.0\n",
            "  Downloading huggingface_hub-0.8.1-py3-none-any.whl (101 kB)\n",
            "\u001b[K     |████████████████████████████████| 101 kB 9.7 MB/s \n",
            "\u001b[?25hRequirement already satisfied: numpy>=1.17 in /usr/local/lib/python3.7/dist-packages (from transformers) (1.21.6)\n",
            "Collecting pyyaml>=5.1\n",
            "  Downloading PyYAML-6.0-cp37-cp37m-manylinux_2_5_x86_64.manylinux1_x86_64.manylinux_2_12_x86_64.manylinux2010_x86_64.whl (596 kB)\n",
            "\u001b[K     |████████████████████████████████| 596 kB 54.7 MB/s \n",
            "\u001b[?25hRequirement already satisfied: regex!=2019.12.17 in /usr/local/lib/python3.7/dist-packages (from transformers) (2022.6.2)\n",
            "Requirement already satisfied: requests in /usr/local/lib/python3.7/dist-packages (from transformers) (2.23.0)\n",
            "Requirement already satisfied: filelock in /usr/local/lib/python3.7/dist-packages (from transformers) (3.7.1)\n",
            "Requirement already satisfied: packaging>=20.0 in /usr/local/lib/python3.7/dist-packages (from transformers) (21.3)\n",
            "Requirement already satisfied: importlib-metadata in /usr/local/lib/python3.7/dist-packages (from transformers) (4.12.0)\n",
            "Collecting tokenizers!=0.11.3,<0.13,>=0.11.1\n",
            "  Downloading tokenizers-0.12.1-cp37-cp37m-manylinux_2_12_x86_64.manylinux2010_x86_64.whl (6.6 MB)\n",
            "\u001b[K     |████████████████████████████████| 6.6 MB 48.0 MB/s \n",
            "\u001b[?25hRequirement already satisfied: tqdm>=4.27 in /usr/local/lib/python3.7/dist-packages (from transformers) (4.64.0)\n",
            "Requirement already satisfied: typing-extensions>=3.7.4.3 in /usr/local/lib/python3.7/dist-packages (from huggingface-hub<1.0,>=0.1.0->transformers) (4.1.1)\n",
            "Requirement already satisfied: pyparsing!=3.0.5,>=2.0.2 in /usr/local/lib/python3.7/dist-packages (from packaging>=20.0->transformers) (3.0.9)\n",
            "Requirement already satisfied: zipp>=0.5 in /usr/local/lib/python3.7/dist-packages (from importlib-metadata->transformers) (3.8.1)\n",
            "Requirement already satisfied: certifi>=2017.4.17 in /usr/local/lib/python3.7/dist-packages (from requests->transformers) (2022.6.15)\n",
            "Requirement already satisfied: idna<3,>=2.5 in /usr/local/lib/python3.7/dist-packages (from requests->transformers) (2.10)\n",
            "Requirement already satisfied: chardet<4,>=3.0.2 in /usr/local/lib/python3.7/dist-packages (from requests->transformers) (3.0.4)\n",
            "Requirement already satisfied: urllib3!=1.25.0,!=1.25.1,<1.26,>=1.21.1 in /usr/local/lib/python3.7/dist-packages (from requests->transformers) (1.24.3)\n",
            "Installing collected packages: pyyaml, tokenizers, huggingface-hub, transformers\n",
            "  Attempting uninstall: pyyaml\n",
            "    Found existing installation: PyYAML 3.13\n",
            "    Uninstalling PyYAML-3.13:\n",
            "      Successfully uninstalled PyYAML-3.13\n",
            "Successfully installed huggingface-hub-0.8.1 pyyaml-6.0 tokenizers-0.12.1 transformers-4.21.1\n"
          ]
        }
      ]
    },
    {
      "cell_type": "code",
      "execution_count": 35,
      "metadata": {
        "id": "szpY8s-nSOSk"
      },
      "outputs": [],
      "source": [
        "from transformers import BertModel, BertConfig\n",
        "from transformers import BertTokenizer"
      ]
    },
    {
      "cell_type": "code",
      "execution_count": 36,
      "metadata": {
        "colab": {
          "base_uri": "https://localhost:8080/",
          "height": 217,
          "referenced_widgets": [
            "1c7c1add91144a9ab856bb89ba7db5ad",
            "b705b696db8240bdaf50ab68a2f72e6b",
            "455705af28ef48389e1be62b425a4ecc",
            "db6682d183784a9c867e2d5a8b74dda4",
            "07b1f71634fb454bb3340ff1fc7e0c0f",
            "3ccf66b06c484f67913e640d3b3c6e32",
            "b75c1478a56e4153b226baf7d29bc020",
            "8467dd943924401ead503f2d7a9ee110",
            "41de93fc89214150b078fbc7b63db503",
            "2b2c7e5f187f44aaa19107ed2ef925a9",
            "680eff1de0b04ecc910b1174b228a2d9",
            "b2c078b124a54de6bf1f40a6e85dd760",
            "499afa1a52dc48eb937c4d026ff5e344",
            "36bc7b7c6b084fcebd9fbdb57a231039",
            "d67357f884b646f9810817714e7b05f8",
            "32842ddd67544989af7bdbb822cbb0f5",
            "1231fc4521134e48aad449cda6ffa20e",
            "86b714f997fe4f1f83b7d8f9552c9794",
            "e8f8734d51914c1eacc70eaf1aaebbee",
            "9b3f3edf76394b5fb25df8e56a789bec",
            "e3adf5d545aa43da9d0e61a7742bebfa",
            "c5d19b49d51e4f9eb273088a7372449e",
            "087b976842bf43e0aadb29377f202c63",
            "2085eacab0e74f75a44969ac47854a2f",
            "d9830bedbdcd48f5ab023f1a298bf173",
            "f35aee8aa18c4f1faca9e8f0ca6ab0f4",
            "ed52d16e160e45729b69eaee6ccee53a",
            "6b80583b62ba4b138d86e2faf9969e57",
            "d2dc1c3245954a8cb72885df54d58dca",
            "ff9287df4c184c0eaa5cf7ddac0dbf4e",
            "442abdebae4043d9ae4f10a1d9cc2ec6",
            "174f1479d70340cc9b780dab9b38781a",
            "ee343f4af55b44e29d8deb2dd6e8f97c",
            "f0c021e6886f48c3b708e52916b318b5",
            "65ed7adeb52e44f1850b772b00884502",
            "83e7368bdde745478402e5558225a742",
            "5941c7520db848dc9d447165c9f69e5b",
            "c1fc9c27c0b148b59af7a5217e0a0822",
            "92639d173fc948008fda424de0dd1243",
            "34f92a61863f4bb68d3fb4d5e769c7de",
            "890e5464c5a64aefa32b7174b0ad2824",
            "9f9962a0cdfb45ac80e0a774c037f4d2",
            "6b3e0b4cca684c229aa8c5c20f250649",
            "1454f075c022488f823decac9cb924e0"
          ]
        },
        "id": "HTjAABeySOSk",
        "outputId": "fecf7a14-4e41-4527-a656-40acc20c0474"
      },
      "outputs": [
        {
          "output_type": "display_data",
          "data": {
            "text/plain": [
              "Downloading vocab.txt:   0%|          | 0.00/226k [00:00<?, ?B/s]"
            ],
            "application/vnd.jupyter.widget-view+json": {
              "version_major": 2,
              "version_minor": 0,
              "model_id": "1c7c1add91144a9ab856bb89ba7db5ad"
            }
          },
          "metadata": {}
        },
        {
          "output_type": "display_data",
          "data": {
            "text/plain": [
              "Downloading tokenizer_config.json:   0%|          | 0.00/28.0 [00:00<?, ?B/s]"
            ],
            "application/vnd.jupyter.widget-view+json": {
              "version_major": 2,
              "version_minor": 0,
              "model_id": "b2c078b124a54de6bf1f40a6e85dd760"
            }
          },
          "metadata": {}
        },
        {
          "output_type": "display_data",
          "data": {
            "text/plain": [
              "Downloading config.json:   0%|          | 0.00/570 [00:00<?, ?B/s]"
            ],
            "application/vnd.jupyter.widget-view+json": {
              "version_major": 2,
              "version_minor": 0,
              "model_id": "087b976842bf43e0aadb29377f202c63"
            }
          },
          "metadata": {}
        },
        {
          "output_type": "display_data",
          "data": {
            "text/plain": [
              "Downloading pytorch_model.bin:   0%|          | 0.00/420M [00:00<?, ?B/s]"
            ],
            "application/vnd.jupyter.widget-view+json": {
              "version_major": 2,
              "version_minor": 0,
              "model_id": "f0c021e6886f48c3b708e52916b318b5"
            }
          },
          "metadata": {}
        },
        {
          "output_type": "stream",
          "name": "stderr",
          "text": [
            "Some weights of the model checkpoint at bert-base-uncased were not used when initializing BertModel: ['cls.predictions.transform.dense.weight', 'cls.seq_relationship.weight', 'cls.predictions.decoder.weight', 'cls.predictions.transform.dense.bias', 'cls.predictions.bias', 'cls.predictions.transform.LayerNorm.weight', 'cls.seq_relationship.bias', 'cls.predictions.transform.LayerNorm.bias']\n",
            "- This IS expected if you are initializing BertModel from the checkpoint of a model trained on another task or with another architecture (e.g. initializing a BertForSequenceClassification model from a BertForPreTraining model).\n",
            "- This IS NOT expected if you are initializing BertModel from the checkpoint of a model that you expect to be exactly identical (initializing a BertForSequenceClassification model from a BertForSequenceClassification model).\n"
          ]
        }
      ],
      "source": [
        "base_model_name = 'bert-base-uncased'\n",
        "tokenizer = BertTokenizer.from_pretrained(base_model_name)\n",
        "config = BertConfig.from_pretrained(base_model_name)\n",
        "model = BertModel.from_pretrained(base_model_name, config = config)"
      ]
    },
    {
      "cell_type": "markdown",
      "source": [
        "### Load frequency list"
      ],
      "metadata": {
        "id": "9GUDxq4G67lO"
      }
    },
    {
      "cell_type": "code",
      "source": [
        "with open('./NLP_final_project/unigram_freq.csv', mode='r') as f:\n",
        "    frequencies = []\n",
        "    word_freq = {}\n",
        "    reader = csv.reader(f)\n",
        "    column = next(reader)\n",
        "    for row in reader:\n",
        "        word_freq[row[0]] = int(row[1])\n",
        "        frequencies.append(int(row[1]))"
      ],
      "metadata": {
        "id": "wYhfP9DG6yok"
      },
      "execution_count": 37,
      "outputs": []
    },
    {
      "cell_type": "code",
      "source": [
        "print(list(word_freq.keys())[:10])"
      ],
      "metadata": {
        "colab": {
          "base_uri": "https://localhost:8080/"
        },
        "id": "lcOqBhlb66cA",
        "outputId": "9b35380d-5422-465f-8099-350057301b46"
      },
      "execution_count": null,
      "outputs": [
        {
          "output_type": "stream",
          "name": "stdout",
          "text": [
            "['the', 'of', 'and', 'to', 'a', 'in', 'for', 'is', 'on', 'that']\n"
          ]
        }
      ]
    },
    {
      "cell_type": "code",
      "execution_count": 38,
      "metadata": {
        "id": "cMxsiETxSOSk"
      },
      "outputs": [],
      "source": [
        "def sum_4_last(token_embeddings):\n",
        "    token_vecs = []\n",
        "    for token in token_embeddings:\n",
        "        # cat_vec = torch.cat((token[-1], token[-2], token[-3], token[-4]), dim=0)\n",
        "        sum_vec = torch.sum(token[-4:], dim=0)\n",
        "        token_vecs.append(sum_vec)\n",
        "    return token_vecs"
      ]
    },
    {
      "cell_type": "code",
      "execution_count": 39,
      "metadata": {
        "id": "R2jfJYIhSOSl"
      },
      "outputs": [],
      "source": [
        "def concat_4_last(token_embeddings):\n",
        "    token_vecs = []\n",
        "    for token in token_embeddings:\n",
        "        cat_vec = torch.cat((token[-1], token[-2], token[-3], token[-4]), dim=0)\n",
        "        token_vecs.append(cat_vec)\n",
        "    return token_vecs"
      ]
    },
    {
      "cell_type": "code",
      "execution_count": 40,
      "metadata": {
        "id": "FL-uisHLSOSl"
      },
      "outputs": [],
      "source": [
        "def return_cls(token_embeddings):\n",
        "    return token_embeddings[0][-1]"
      ]
    },
    {
      "cell_type": "code",
      "execution_count": 41,
      "metadata": {
        "id": "8wrjITPySOSl"
      },
      "outputs": [],
      "source": [
        "def bert_semantic_representation(sentence, function):\n",
        "    #This is how Bert will treat the sentence tokenization\n",
        "    formatted_text = \"[CLS] \" + sentence + \" [SEP]\"\n",
        "    tokenized_text = tokenizer.tokenize(formatted_text)\n",
        "\n",
        "    input_ids = tokenizer.encode(text=sentence, \n",
        "                                  add_special_tokens=True,\n",
        "                                  max_length=100,\n",
        "                                  truncation=True,\n",
        "                                  padding=False)\n",
        "\n",
        "    attn_mask = [1] * len(input_ids)\n",
        "    input_ids_batch = torch.unsqueeze(torch.tensor(input_ids), 0)\n",
        "    attn_mask_batch = torch.unsqueeze(torch.tensor(attn_mask), 0)\n",
        "\n",
        "    model.eval()\n",
        "    with torch.no_grad():\n",
        "        bert_result = model(input_ids_batch, \n",
        "                      token_type_ids=None, \n",
        "                      attention_mask=attn_mask_batch, \n",
        "                      output_hidden_states = True,\n",
        "                      return_dict = False)\n",
        "        hidden_states = bert_result[2]\n",
        "        token_embeddings = torch.stack(hidden_states, dim=0)\n",
        "        token_embeddings = torch.squeeze(token_embeddings, dim=1)\n",
        "        token_embeddings = token_embeddings.permute(1,0,2)\n",
        "\n",
        "        rep_vec = function(token_embeddings)\n",
        "\n",
        "    return rep_vec"
      ]
    },
    {
      "cell_type": "code",
      "execution_count": 42,
      "metadata": {
        "id": "-LW1gK1aSOSm"
      },
      "outputs": [],
      "source": [
        "def subfinder(tokens_list, target_list):\n",
        "    #returns first match\n",
        "    for i in range(len(tokens_list)):\n",
        "        if tokens_list[i] == target_list[0] and tokens_list[i:i+len(target_list)] == target_list:\n",
        "            break\n",
        "    return i"
      ]
    },
    {
      "cell_type": "markdown",
      "source": [
        "Here we define our cutoff word-frequency for simplification.\\\n",
        "The top 4% of the words are above 3195104 apearances in the curpus..."
      ],
      "metadata": {
        "id": "2pjiQGgBdQgT"
      }
    },
    {
      "cell_type": "code",
      "execution_count": 43,
      "metadata": {
        "colab": {
          "base_uri": "https://localhost:8080/"
        },
        "id": "-3c1qr8oSOSn",
        "outputId": "1cb5eb80-ced2-4f51-d961-65ed06ea55ac"
      },
      "outputs": [
        {
          "output_type": "stream",
          "name": "stdout",
          "text": [
            "3195104\n"
          ]
        }
      ],
      "source": [
        "len_freq_dict = len(word_freq)\n",
        "percent = 0.04\n",
        "freq_ind = int(percent*len_freq_dict)\n",
        "threshold = frequencies[freq_ind]\n",
        "print(threshold)"
      ]
    },
    {
      "cell_type": "code",
      "execution_count": 44,
      "metadata": {
        "id": "yAOB0rCLSOSo"
      },
      "outputs": [],
      "source": [
        "def bert_rated_sugg(sentence, candidate, reps):\n",
        "    formatted_text = \"[CLS] \" + sentence + \" [SEP]\"\n",
        "    tokenized_text = tokenizer.tokenize(formatted_text)\n",
        "    target_list = tokenizer.tokenize(candidate)\n",
        "    start_ind = subfinder(tokenized_text, target_list)\n",
        "    end_ind = start_ind + len(target_list)\n",
        "    original_hidden = torch.sum(torch.stack(bert_semantic_representation(sentence, concat_4_last)[start_ind:end_ind]), dim = 0)\n",
        "    bert_score_sim = np.zeros(len(reps))\n",
        "    for i, r in enumerate(reps):\n",
        "        rep_sentence = sentence.replace(candidate, r)\n",
        "        r_list = tokenizer.tokenize(r)\n",
        "        rep_hiddens = torch.sum(torch.stack(bert_semantic_representation(rep_sentence, concat_4_last)[start_ind:start_ind + len(r_list)]), dim = 0)\n",
        "        similarity = cos_similarity(original_hidden, rep_hiddens)\n",
        "        bert_score_sim[i] = similarity\n",
        "\n",
        "    rep_rank = np.argsort(bert_score_sim)[::-1]\n",
        "    rep_sorted = np.array(reps)[rep_rank]\n",
        "    bert_score_sim_sorted = bert_score_sim[rep_rank]\n",
        "    freq = [word_freq[word] if word in word_freq.keys() else 0 for word in rep_sorted]\n",
        "    #filter by frequency above a threshold\n",
        "    filter_freq = [(word, score, word_freq) for (word, score, word_freq) in zip(rep_sorted, bert_score_sim_sorted, freq) if word_freq > threshold]\n",
        "    filter_words = [word for (word, word_freq) in zip(rep_sorted, freq) if word_freq > threshold]\n",
        "\n",
        "    return filter_freq, filter_words"
      ]
    },
    {
      "cell_type": "code",
      "execution_count": null,
      "metadata": {
        "id": "GFu0wmZdSOSo"
      },
      "outputs": [],
      "source": [
        "n = 500\n",
        "sugg_fixed_n = model_suggested_n_filtered[n]\n",
        "final_suggestions = []\n",
        "final_suggestions_summary = []\n",
        "for i, sentence in enumerate(database.keys()):\n",
        "    # if i < 5:\n",
        "        candidate = candidates[i]\n",
        "        suggested_words = sug_words[i] # dataset suggestions\n",
        "\n",
        "        formatted_text = \"[CLS] \" + sentence + \" [SEP]\"\n",
        "        tokenized_text = tokenizer.tokenize(formatted_text)\n",
        "\n",
        "        reps = sugg_fixed_n[sentence]\n",
        "        target_list = tokenizer.tokenize(candidate)\n",
        "        start_ind = subfinder(tokenized_text, target_list)\n",
        "        end_ind = start_ind + len(target_list)\n",
        "        original_hidden = torch.sum(torch.stack(bert_semantic_representation(sentence, concat_4_last)[start_ind:end_ind]), dim = 0)\n",
        "        bert_score_sim = np.zeros(len(reps))\n",
        "        for i, r in enumerate(reps):\n",
        "            rep_sentence = sentence.replace(candidate, r)\n",
        "            r_list = tokenizer.tokenize(r)\n",
        "            rep_hiddens = torch.sum(torch.stack(bert_semantic_representation(rep_sentence, concat_4_last)[start_ind:start_ind + len(r_list)]), dim = 0)\n",
        "            similarity = cos_similarity(original_hidden, rep_hiddens)\n",
        "            bert_score_sim[i] = similarity\n",
        "\n",
        "        rep_rank = np.argsort(bert_score_sim)[::-1]\n",
        "        rep_sorted = np.array(reps)[rep_rank]\n",
        "        bert_score_sim_sorted = bert_score_sim[rep_rank]\n",
        "        freq = [word_freq[word] if word in word_freq.keys() else 0 for word in rep_sorted]\n",
        "        #filter by frequency above a threshold\n",
        "        filter_freq = [(word, score, word_freq) for (word, score, word_freq) in zip(rep_sorted, bert_score_sim_sorted, freq) if word_freq > threshold]\n",
        "        filter_words = [word for (word, word_freq) in zip(rep_sorted, freq) if word_freq > threshold]\n",
        "\n",
        "        final_suggestions_summary.append(filter_freq[:20])\n",
        "        final_suggestions.append(filter_words[:20])\n",
        "    "
      ]
    },
    {
      "cell_type": "code",
      "source": [
        "path = './NLP_final_project/final_suggestions_NNSeval_500'\n",
        "with open(path, 'wb') as f:\n",
        "  pickle.dump((final_suggestions, final_suggestions_summary), f)"
      ],
      "metadata": {
        "id": "os1MYgQ6-1Re"
      },
      "execution_count": null,
      "outputs": []
    },
    {
      "cell_type": "code",
      "source": [
        "# path = './NLP_final_project/final_suggestions_100'\n",
        "# with open(path, 'wb') as f:\n",
        "#   pickle.dump((final_suggestions, final_suggestions_summary), f)"
      ],
      "metadata": {
        "id": "yLM4F-y9obce"
      },
      "execution_count": null,
      "outputs": []
    },
    {
      "cell_type": "code",
      "source": [
        "# path = './NLP_final_project/final_suggestions_100'\n",
        "# with open(path, 'rb') as f:\n",
        "#   final_suggestions, final_suggestions_summary = pickle.load(f)"
      ],
      "metadata": {
        "id": "zsPcfi8ao9a5"
      },
      "execution_count": null,
      "outputs": []
    },
    {
      "cell_type": "markdown",
      "metadata": {
        "id": "Z-lYw87zSOSp"
      },
      "source": [
        "## Evaluation\n",
        "Precision-Reacll-F1-score calculation"
      ]
    },
    {
      "cell_type": "code",
      "source": [
        "def evaluate_precision_recall_f1(final_suggestions, group_size):\n",
        "    s = len(final_suggestions)\n",
        "    precision = np.zeros((s))\n",
        "    recall = np.zeros((s))\n",
        "    count_no_matches = 0\n",
        "\n",
        "    for i in range(s):\n",
        "      gold = sug_words[i]\n",
        "      reps = final_suggestions[i][:group_size]\n",
        "\n",
        "      recall_counter = 0\n",
        "      for rep in gold:\n",
        "          if rep in reps:\n",
        "              recall_counter +=1\n",
        "      if recall_counter == 0:\n",
        "          count_no_matches+=1\n",
        "      recall[i] = recall_counter/len(gold)\n",
        "\n",
        "      precision_counter = 0\n",
        "      for rep in reps:\n",
        "          if rep in gold:\n",
        "              precision_counter +=1\n",
        "      if len(reps):\n",
        "        precision[i] = precision_counter/len(reps)\n",
        "    \n",
        "    return np.mean(precision), np.mean(recall), count_no_matches"
      ],
      "metadata": {
        "id": "GuWovA-tm0fx"
      },
      "execution_count": 28,
      "outputs": []
    },
    {
      "cell_type": "code",
      "source": [
        "def plot_evaluation_curves(final_suggestions, nmax):\n",
        "# nmax = 15\n",
        "  ns = np.arange(1, nmax)\n",
        "  precisions = []\n",
        "  recalls = []\n",
        "  f1s = []\n",
        "  for n in ns:\n",
        "    precision, recall, count_no_matches = evaluate_precision_recall_f1(final_suggestions, n)\n",
        "    precisions.append(precision)\n",
        "    recalls.append(recall)\n",
        "    f1 = (2 * precision * recall) / (precision + recall)\n",
        "    f1s.append(f1)\n",
        "\n",
        "  fig1, ax1 = plt.subplots(figsize=(8, 5))\n",
        "\n",
        "  ax1.plot(ns, precisions, '.-', ms = 12, label = 'precision')\n",
        "  ax1.plot(ns, recalls, '.-', ms = 12, label = 'recall')\n",
        "  ax1.plot(ns, f1s, '.-', ms = 12, label = 'f1')\n",
        "\n",
        "  ax1.set_xlabel('Number of top words', fontsize = 12)\n",
        "  ax1.set_ylabel('%', fontsize = 12)\n",
        "  ax1.set_title('Performance evaluation on NNSeval', fontsize = 14)\n",
        "  ax1.legend(fontsize = 14)\n",
        "  ax1.grid('visible')"
      ],
      "metadata": {
        "id": "Uabxs-0BvseT"
      },
      "execution_count": 23,
      "outputs": []
    },
    {
      "cell_type": "code",
      "source": [
        "path = './NLP_final_project/final_suggestions_NNSeval_500'\n",
        "with open(path, 'rb') as f:\n",
        "  final_suggestions, final_suggestions_summary = pickle.load(f)"
      ],
      "metadata": {
        "id": "_T-QQh5mS_UB"
      },
      "execution_count": 24,
      "outputs": []
    },
    {
      "cell_type": "code",
      "source": [
        "precision, recall, count_no_matches = evaluate_precision_recall_f1(final_suggestions, 7)\n",
        "print(precision)\n",
        "print(recall)\n",
        "f1 = (2 * precision * recall) / (precision + recall)\n",
        "print(f1)"
      ],
      "metadata": {
        "colab": {
          "base_uri": "https://localhost:8080/"
        },
        "id": "C-Rc8SYm1fp8",
        "outputId": "720d59b1-4517-413e-bf55-652b4918a887"
      },
      "execution_count": 29,
      "outputs": [
        {
          "output_type": "stream",
          "name": "stdout",
          "text": [
            "0.20741183502689772\n",
            "0.2759009264311833\n",
            "0.23680366834955227\n"
          ]
        }
      ]
    },
    {
      "cell_type": "code",
      "source": [
        "plot_evaluation_curves(final_suggestions, 15)"
      ],
      "metadata": {
        "colab": {
          "base_uri": "https://localhost:8080/",
          "height": 354
        },
        "id": "CFmoBz6lV_Zg",
        "outputId": "e32c104c-e36e-45a2-bf5b-7522e24055f7"
      },
      "execution_count": 30,
      "outputs": [
        {
          "output_type": "display_data",
          "data": {
            "text/plain": [
              "<Figure size 576x360 with 1 Axes>"
            ],
            "image/png": "[encoded data removed]"
          },
          "metadata": {
            "needs_background": "light"
          }
        }
      ]
    },
    {
      "cell_type": "code",
      "source": [
        "count_no_matches"
      ],
      "metadata": {
        "colab": {
          "base_uri": "https://localhost:8080/"
        },
        "id": "1rxRDiQmxeiC",
        "outputId": "869b706c-1263-4eee-9e7e-1dcdd752ef70"
      },
      "execution_count": 31,
      "outputs": [
        {
          "output_type": "execute_result",
          "data": {
            "text/plain": [
              "54"
            ]
          },
          "metadata": {},
          "execution_count": 31
        }
      ]
    },
    {
      "cell_type": "markdown",
      "source": [
        "Now for some free exploring, unrelated to datasets:"
      ],
      "metadata": {
        "id": "nUCw4juWgQD4"
      }
    },
    {
      "cell_type": "code",
      "execution_count": 32,
      "metadata": {
        "id": "7dBRehC4SOSq"
      },
      "outputs": [],
      "source": [
        "def replace_word(sentence, candidate, n):\n",
        "    word_emb = embeddings_index[candidate]  \n",
        "    dists = compute_all_distances(all_embeddings, word_emb)\n",
        "    cosines = compute_all_cosines(all_embeddings, word_emb)\n",
        "    ind_dist = np.argsort(dists)\n",
        "    ind_cos = np.argsort(cosines)[::-1]\n",
        "    ind = np.union1d(ind_dist[1:n], ind_cos[1:n])\n",
        "    limited_vocab = vocab[ind]\n",
        "\n",
        "    filtered_pos = filter_by_pos(sentence, candidate, limited_vocab)\n",
        "    filtered_lemma = filter_by_lemma(candidate, filtered_pos)\n",
        "    filter_freq, filter_words = bert_rated_sugg(sentence, candidate, filtered_lemma)\n",
        "    top_word = filter_words[0]\n",
        "    top_sentence = sentence.replace(candidate, top_word)\n",
        "    print(top_sentence)\n",
        "    print(filter_words[:10])"
      ]
    },
    {
      "cell_type": "code",
      "execution_count": 45,
      "metadata": {
        "id": "bnOOjVSdSOSq",
        "outputId": "1d0faa9f-c3ee-4ea8-c2cc-143451f3f2d3",
        "colab": {
          "base_uri": "https://localhost:8080/"
        }
      },
      "outputs": [
        {
          "output_type": "stream",
          "name": "stdout",
          "text": [
            "The cat sat on the mat\n",
            "['sat', 'stood', 'elevated', 'landed', 'situated', 'spotted', 'placed', 'left']\n"
          ]
        }
      ],
      "source": [
        "n = 100\n",
        "sentence = 'The cat perched on the mat'\n",
        "candidate = 'perched'\n",
        "replace_word(sentence, candidate, n)"
      ]
    },
    {
      "cell_type": "code",
      "source": [
        "n = 100\n",
        "sentence = 'You shall not pass!'\n",
        "candidate = 'shall'\n",
        "replace_word(sentence, candidate, n)"
      ],
      "metadata": {
        "colab": {
          "base_uri": "https://localhost:8080/"
        },
        "id": "DNpk6m_Ff_BY",
        "outputId": "f7fe9bc7-047f-40f4-82f7-98d6064ea332"
      },
      "execution_count": 46,
      "outputs": [
        {
          "output_type": "stream",
          "name": "stdout",
          "text": [
            "You will not pass!\n",
            "['will', 'may', 'must', 'should', 'can', 'ought', 'would', 'could', 'might']\n"
          ]
        }
      ]
    },
    {
      "cell_type": "code",
      "source": [
        "n = 100\n",
        "sentence = 'Nobody expects the Spanish inquisition'\n",
        "candidate = 'inquisition'\n",
        "replace_word(sentence, candidate, n)"
      ],
      "metadata": {
        "colab": {
          "base_uri": "https://localhost:8080/"
        },
        "id": "Vjv4Zqreh8KT",
        "outputId": "7e50b6fb-b004-486b-ba21-a4fc065aaab9"
      },
      "execution_count": 47,
      "outputs": [
        {
          "output_type": "stream",
          "name": "stdout",
          "text": [
            "Nobody expects the Spanish tribunal\n",
            "['tribunal', 'torture', 'witch', 'medieval', 'inquiry', 'holocaust', 'institute', 'judicial', 'investigation', 'madness']\n"
          ]
        }
      ]
    }
  ],
  "metadata": {
    "kernelspec": {
      "display_name": "Python 3.9.5 ('base')",
      "language": "python",
      "name": "python3"
    },
    "language_info": {
      "codemirror_mode": {
        "name": "ipython",
        "version": 3
      },
      "file_extension": ".py",
      "mimetype": "text/x-python",
      "name": "python",
      "nbconvert_exporter": "python",
      "pygments_lexer": "ipython3",
      "version": "3.9.5"
    },
    "orig_nbformat": 4,
    "vscode": {
      "interpreter": {
        "hash": "f244470e7c19422344884beeacb7db76a45d68f5909abdaa83b4b1bc76b8120a"
      }
    },
    "colab": {
      "name": "NLP_final_project_main_notebook.ipynb",
      "provenance": [],
      "collapsed_sections": []
    },
    "gpuClass": "standard",
    "widgets": {
      "application/vnd.jupyter.widget-state+json": {
        "1c7c1add91144a9ab856bb89ba7db5ad": {
          "model_module": "@jupyter-widgets/controls",
          "model_name": "HBoxModel",
          "model_module_version": "1.5.0",
          "state": {
            "_dom_classes": [],
            "_model_module": "@jupyter-widgets/controls",
            "_model_module_version": "1.5.0",
            "_model_name": "HBoxModel",
            "_view_count": null,
            "_view_module": "@jupyter-widgets/controls",
            "_view_module_version": "1.5.0",
            "_view_name": "HBoxView",
            "box_style": "",
            "children": [
              "IPY_MODEL_b705b696db8240bdaf50ab68a2f72e6b",
              "IPY_MODEL_455705af28ef48389e1be62b425a4ecc",
              "IPY_MODEL_db6682d183784a9c867e2d5a8b74dda4"
            ],
            "layout": "IPY_MODEL_07b1f71634fb454bb3340ff1fc7e0c0f"
          }
        },
        "b705b696db8240bdaf50ab68a2f72e6b": {
          "model_module": "@jupyter-widgets/controls",
          "model_name": "HTMLModel",
          "model_module_version": "1.5.0",
          "state": {
            "_dom_classes": [],
            "_model_module": "@jupyter-widgets/controls",
            "_model_module_version": "1.5.0",
            "_model_name": "HTMLModel",
            "_view_count": null,
            "_view_module": "@jupyter-widgets/controls",
            "_view_module_version": "1.5.0",
            "_view_name": "HTMLView",
            "description": "",
            "description_tooltip": null,
            "layout": "IPY_MODEL_3ccf66b06c484f67913e640d3b3c6e32",
            "placeholder": "​",
            "style": "IPY_MODEL_b75c1478a56e4153b226baf7d29bc020",
            "value": "Downloading vocab.txt: 100%"
          }
        },
        "455705af28ef48389e1be62b425a4ecc": {
          "model_module": "@jupyter-widgets/controls",
          "model_name": "FloatProgressModel",
          "model_module_version": "1.5.0",
          "state": {
            "_dom_classes": [],
            "_model_module": "@jupyter-widgets/controls",
            "_model_module_version": "1.5.0",
            "_model_name": "FloatProgressModel",
            "_view_count": null,
            "_view_module": "@jupyter-widgets/controls",
            "_view_module_version": "1.5.0",
            "_view_name": "ProgressView",
            "bar_style": "success",
            "description": "",
            "description_tooltip": null,
            "layout": "IPY_MODEL_8467dd943924401ead503f2d7a9ee110",
            "max": 231508,
            "min": 0,
            "orientation": "horizontal",
            "style": "IPY_MODEL_41de93fc89214150b078fbc7b63db503",
            "value": 231508
          }
        },
        "db6682d183784a9c867e2d5a8b74dda4": {
          "model_module": "@jupyter-widgets/controls",
          "model_name": "HTMLModel",
          "model_module_version": "1.5.0",
          "state": {
            "_dom_classes": [],
            "_model_module": "@jupyter-widgets/controls",
            "_model_module_version": "1.5.0",
            "_model_name": "HTMLModel",
            "_view_count": null,
            "_view_module": "@jupyter-widgets/controls",
            "_view_module_version": "1.5.0",
            "_view_name": "HTMLView",
            "description": "",
            "description_tooltip": null,
            "layout": "IPY_MODEL_2b2c7e5f187f44aaa19107ed2ef925a9",
            "placeholder": "​",
            "style": "IPY_MODEL_680eff1de0b04ecc910b1174b228a2d9",
            "value": " 226k/226k [00:00&lt;00:00, 539kB/s]"
          }
        },
        "07b1f71634fb454bb3340ff1fc7e0c0f": {
          "model_module": "@jupyter-widgets/base",
          "model_name": "LayoutModel",
          "model_module_version": "1.2.0",
          "state": {
            "_model_module": "@jupyter-widgets/base",
            "_model_module_version": "1.2.0",
            "_model_name": "LayoutModel",
            "_view_count": null,
            "_view_module": "@jupyter-widgets/base",
            "_view_module_version": "1.2.0",
            "_view_name": "LayoutView",
            "align_content": null,
            "align_items": null,
            "align_self": null,
            "border": null,
            "bottom": null,
            "display": null,
            "flex": null,
            "flex_flow": null,
            "grid_area": null,
            "grid_auto_columns": null,
            "grid_auto_flow": null,
            "grid_auto_rows": null,
            "grid_column": null,
            "grid_gap": null,
            "grid_row": null,
            "grid_template_areas": null,
            "grid_template_columns": null,
            "grid_template_rows": null,
            "height": null,
            "justify_content": null,
            "justify_items": null,
            "left": null,
            "margin": null,
            "max_height": null,
            "max_width": null,
            "min_height": null,
            "min_width": null,
            "object_fit": null,
            "object_position": null,
            "order": null,
            "overflow": null,
            "overflow_x": null,
            "overflow_y": null,
            "padding": null,
            "right": null,
            "top": null,
            "visibility": null,
            "width": null
          }
        },
        "3ccf66b06c484f67913e640d3b3c6e32": {
          "model_module": "@jupyter-widgets/base",
          "model_name": "LayoutModel",
          "model_module_version": "1.2.0",
          "state": {
            "_model_module": "@jupyter-widgets/base",
            "_model_module_version": "1.2.0",
            "_model_name": "LayoutModel",
            "_view_count": null,
            "_view_module": "@jupyter-widgets/base",
            "_view_module_version": "1.2.0",
            "_view_name": "LayoutView",
            "align_content": null,
            "align_items": null,
            "align_self": null,
            "border": null,
            "bottom": null,
            "display": null,
            "flex": null,
            "flex_flow": null,
            "grid_area": null,
            "grid_auto_columns": null,
            "grid_auto_flow": null,
            "grid_auto_rows": null,
            "grid_column": null,
            "grid_gap": null,
            "grid_row": null,
            "grid_template_areas": null,
            "grid_template_columns": null,
            "grid_template_rows": null,
            "height": null,
            "justify_content": null,
            "justify_items": null,
            "left": null,
            "margin": null,
            "max_height": null,
            "max_width": null,
            "min_height": null,
            "min_width": null,
            "object_fit": null,
            "object_position": null,
            "order": null,
            "overflow": null,
            "overflow_x": null,
            "overflow_y": null,
            "padding": null,
            "right": null,
            "top": null,
            "visibility": null,
            "width": null
          }
        },
        "b75c1478a56e4153b226baf7d29bc020": {
          "model_module": "@jupyter-widgets/controls",
          "model_name": "DescriptionStyleModel",
          "model_module_version": "1.5.0",
          "state": {
            "_model_module": "@jupyter-widgets/controls",
            "_model_module_version": "1.5.0",
            "_model_name": "DescriptionStyleModel",
            "_view_count": null,
            "_view_module": "@jupyter-widgets/base",
            "_view_module_version": "1.2.0",
            "_view_name": "StyleView",
            "description_width": ""
          }
        },
        "8467dd943924401ead503f2d7a9ee110": {
          "model_module": "@jupyter-widgets/base",
          "model_name": "LayoutModel",
          "model_module_version": "1.2.0",
          "state": {
            "_model_module": "@jupyter-widgets/base",
            "_model_module_version": "1.2.0",
            "_model_name": "LayoutModel",
            "_view_count": null,
            "_view_module": "@jupyter-widgets/base",
            "_view_module_version": "1.2.0",
            "_view_name": "LayoutView",
            "align_content": null,
            "align_items": null,
            "align_self": null,
            "border": null,
            "bottom": null,
            "display": null,
            "flex": null,
            "flex_flow": null,
            "grid_area": null,
            "grid_auto_columns": null,
            "grid_auto_flow": null,
            "grid_auto_rows": null,
            "grid_column": null,
            "grid_gap": null,
            "grid_row": null,
            "grid_template_areas": null,
            "grid_template_columns": null,
            "grid_template_rows": null,
            "height": null,
            "justify_content": null,
            "justify_items": null,
            "left": null,
            "margin": null,
            "max_height": null,
            "max_width": null,
            "min_height": null,
            "min_width": null,
            "object_fit": null,
            "object_position": null,
            "order": null,
            "overflow": null,
            "overflow_x": null,
            "overflow_y": null,
            "padding": null,
            "right": null,
            "top": null,
            "visibility": null,
            "width": null
          }
        },
        "41de93fc89214150b078fbc7b63db503": {
          "model_module": "@jupyter-widgets/controls",
          "model_name": "ProgressStyleModel",
          "model_module_version": "1.5.0",
          "state": {
            "_model_module": "@jupyter-widgets/controls",
            "_model_module_version": "1.5.0",
            "_model_name": "ProgressStyleModel",
            "_view_count": null,
            "_view_module": "@jupyter-widgets/base",
            "_view_module_version": "1.2.0",
            "_view_name": "StyleView",
            "bar_color": null,
            "description_width": ""
          }
        },
        "2b2c7e5f187f44aaa19107ed2ef925a9": {
          "model_module": "@jupyter-widgets/base",
          "model_name": "LayoutModel",
          "model_module_version": "1.2.0",
          "state": {
            "_model_module": "@jupyter-widgets/base",
            "_model_module_version": "1.2.0",
            "_model_name": "LayoutModel",
            "_view_count": null,
            "_view_module": "@jupyter-widgets/base",
            "_view_module_version": "1.2.0",
            "_view_name": "LayoutView",
            "align_content": null,
            "align_items": null,
            "align_self": null,
            "border": null,
            "bottom": null,
            "display": null,
            "flex": null,
            "flex_flow": null,
            "grid_area": null,
            "grid_auto_columns": null,
            "grid_auto_flow": null,
            "grid_auto_rows": null,
            "grid_column": null,
            "grid_gap": null,
            "grid_row": null,
            "grid_template_areas": null,
            "grid_template_columns": null,
            "grid_template_rows": null,
            "height": null,
            "justify_content": null,
            "justify_items": null,
            "left": null,
            "margin": null,
            "max_height": null,
            "max_width": null,
            "min_height": null,
            "min_width": null,
            "object_fit": null,
            "object_position": null,
            "order": null,
            "overflow": null,
            "overflow_x": null,
            "overflow_y": null,
            "padding": null,
            "right": null,
            "top": null,
            "visibility": null,
            "width": null
          }
        },
        "680eff1de0b04ecc910b1174b228a2d9": {
          "model_module": "@jupyter-widgets/controls",
          "model_name": "DescriptionStyleModel",
          "model_module_version": "1.5.0",
          "state": {
            "_model_module": "@jupyter-widgets/controls",
            "_model_module_version": "1.5.0",
            "_model_name": "DescriptionStyleModel",
            "_view_count": null,
            "_view_module": "@jupyter-widgets/base",
            "_view_module_version": "1.2.0",
            "_view_name": "StyleView",
            "description_width": ""
          }
        },
        "b2c078b124a54de6bf1f40a6e85dd760": {
          "model_module": "@jupyter-widgets/controls",
          "model_name": "HBoxModel",
          "model_module_version": "1.5.0",
          "state": {
            "_dom_classes": [],
            "_model_module": "@jupyter-widgets/controls",
            "_model_module_version": "1.5.0",
            "_model_name": "HBoxModel",
            "_view_count": null,
            "_view_module": "@jupyter-widgets/controls",
            "_view_module_version": "1.5.0",
            "_view_name": "HBoxView",
            "box_style": "",
            "children": [
              "IPY_MODEL_499afa1a52dc48eb937c4d026ff5e344",
              "IPY_MODEL_36bc7b7c6b084fcebd9fbdb57a231039",
              "IPY_MODEL_d67357f884b646f9810817714e7b05f8"
            ],
            "layout": "IPY_MODEL_32842ddd67544989af7bdbb822cbb0f5"
          }
        },
        "499afa1a52dc48eb937c4d026ff5e344": {
          "model_module": "@jupyter-widgets/controls",
          "model_name": "HTMLModel",
          "model_module_version": "1.5.0",
          "state": {
            "_dom_classes": [],
            "_model_module": "@jupyter-widgets/controls",
            "_model_module_version": "1.5.0",
            "_model_name": "HTMLModel",
            "_view_count": null,
            "_view_module": "@jupyter-widgets/controls",
            "_view_module_version": "1.5.0",
            "_view_name": "HTMLView",
            "description": "",
            "description_tooltip": null,
            "layout": "IPY_MODEL_1231fc4521134e48aad449cda6ffa20e",
            "placeholder": "​",
            "style": "IPY_MODEL_86b714f997fe4f1f83b7d8f9552c9794",
            "value": "Downloading tokenizer_config.json: 100%"
          }
        },
        "36bc7b7c6b084fcebd9fbdb57a231039": {
          "model_module": "@jupyter-widgets/controls",
          "model_name": "FloatProgressModel",
          "model_module_version": "1.5.0",
          "state": {
            "_dom_classes": [],
            "_model_module": "@jupyter-widgets/controls",
            "_model_module_version": "1.5.0",
            "_model_name": "FloatProgressModel",
            "_view_count": null,
            "_view_module": "@jupyter-widgets/controls",
            "_view_module_version": "1.5.0",
            "_view_name": "ProgressView",
            "bar_style": "success",
            "description": "",
            "description_tooltip": null,
            "layout": "IPY_MODEL_e8f8734d51914c1eacc70eaf1aaebbee",
            "max": 28,
            "min": 0,
            "orientation": "horizontal",
            "style": "IPY_MODEL_9b3f3edf76394b5fb25df8e56a789bec",
            "value": 28
          }
        },
        "d67357f884b646f9810817714e7b05f8": {
          "model_module": "@jupyter-widgets/controls",
          "model_name": "HTMLModel",
          "model_module_version": "1.5.0",
          "state": {
            "_dom_classes": [],
            "_model_module": "@jupyter-widgets/controls",
            "_model_module_version": "1.5.0",
            "_model_name": "HTMLModel",
            "_view_count": null,
            "_view_module": "@jupyter-widgets/controls",
            "_view_module_version": "1.5.0",
            "_view_name": "HTMLView",
            "description": "",
            "description_tooltip": null,
            "layout": "IPY_MODEL_e3adf5d545aa43da9d0e61a7742bebfa",
            "placeholder": "​",
            "style": "IPY_MODEL_c5d19b49d51e4f9eb273088a7372449e",
            "value": " 28.0/28.0 [00:00&lt;00:00, 224B/s]"
          }
        },
        "32842ddd67544989af7bdbb822cbb0f5": {
          "model_module": "@jupyter-widgets/base",
          "model_name": "LayoutModel",
          "model_module_version": "1.2.0",
          "state": {
            "_model_module": "@jupyter-widgets/base",
            "_model_module_version": "1.2.0",
            "_model_name": "LayoutModel",
            "_view_count": null,
            "_view_module": "@jupyter-widgets/base",
            "_view_module_version": "1.2.0",
            "_view_name": "LayoutView",
            "align_content": null,
            "align_items": null,
            "align_self": null,
            "border": null,
            "bottom": null,
            "display": null,
            "flex": null,
            "flex_flow": null,
            "grid_area": null,
            "grid_auto_columns": null,
            "grid_auto_flow": null,
            "grid_auto_rows": null,
            "grid_column": null,
            "grid_gap": null,
            "grid_row": null,
            "grid_template_areas": null,
            "grid_template_columns": null,
            "grid_template_rows": null,
            "height": null,
            "justify_content": null,
            "justify_items": null,
            "left": null,
            "margin": null,
            "max_height": null,
            "max_width": null,
            "min_height": null,
            "min_width": null,
            "object_fit": null,
            "object_position": null,
            "order": null,
            "overflow": null,
            "overflow_x": null,
            "overflow_y": null,
            "padding": null,
            "right": null,
            "top": null,
            "visibility": null,
            "width": null
          }
        },
        "1231fc4521134e48aad449cda6ffa20e": {
          "model_module": "@jupyter-widgets/base",
          "model_name": "LayoutModel",
          "model_module_version": "1.2.0",
          "state": {
            "_model_module": "@jupyter-widgets/base",
            "_model_module_version": "1.2.0",
            "_model_name": "LayoutModel",
            "_view_count": null,
            "_view_module": "@jupyter-widgets/base",
            "_view_module_version": "1.2.0",
            "_view_name": "LayoutView",
            "align_content": null,
            "align_items": null,
            "align_self": null,
            "border": null,
            "bottom": null,
            "display": null,
            "flex": null,
            "flex_flow": null,
            "grid_area": null,
            "grid_auto_columns": null,
            "grid_auto_flow": null,
            "grid_auto_rows": null,
            "grid_column": null,
            "grid_gap": null,
            "grid_row": null,
            "grid_template_areas": null,
            "grid_template_columns": null,
            "grid_template_rows": null,
            "height": null,
            "justify_content": null,
            "justify_items": null,
            "left": null,
            "margin": null,
            "max_height": null,
            "max_width": null,
            "min_height": null,
            "min_width": null,
            "object_fit": null,
            "object_position": null,
            "order": null,
            "overflow": null,
            "overflow_x": null,
            "overflow_y": null,
            "padding": null,
            "right": null,
            "top": null,
            "visibility": null,
            "width": null
          }
        },
        "86b714f997fe4f1f83b7d8f9552c9794": {
          "model_module": "@jupyter-widgets/controls",
          "model_name": "DescriptionStyleModel",
          "model_module_version": "1.5.0",
          "state": {
            "_model_module": "@jupyter-widgets/controls",
            "_model_module_version": "1.5.0",
            "_model_name": "DescriptionStyleModel",
            "_view_count": null,
            "_view_module": "@jupyter-widgets/base",
            "_view_module_version": "1.2.0",
            "_view_name": "StyleView",
            "description_width": ""
          }
        },
        "e8f8734d51914c1eacc70eaf1aaebbee": {
          "model_module": "@jupyter-widgets/base",
          "model_name": "LayoutModel",
          "model_module_version": "1.2.0",
          "state": {
            "_model_module": "@jupyter-widgets/base",
            "_model_module_version": "1.2.0",
            "_model_name": "LayoutModel",
            "_view_count": null,
            "_view_module": "@jupyter-widgets/base",
            "_view_module_version": "1.2.0",
            "_view_name": "LayoutView",
            "align_content": null,
            "align_items": null,
            "align_self": null,
            "border": null,
            "bottom": null,
            "display": null,
            "flex": null,
            "flex_flow": null,
            "grid_area": null,
            "grid_auto_columns": null,
            "grid_auto_flow": null,
            "grid_auto_rows": null,
            "grid_column": null,
            "grid_gap": null,
            "grid_row": null,
            "grid_template_areas": null,
            "grid_template_columns": null,
            "grid_template_rows": null,
            "height": null,
            "justify_content": null,
            "justify_items": null,
            "left": null,
            "margin": null,
            "max_height": null,
            "max_width": null,
            "min_height": null,
            "min_width": null,
            "object_fit": null,
            "object_position": null,
            "order": null,
            "overflow": null,
            "overflow_x": null,
            "overflow_y": null,
            "padding": null,
            "right": null,
            "top": null,
            "visibility": null,
            "width": null
          }
        },
        "9b3f3edf76394b5fb25df8e56a789bec": {
          "model_module": "@jupyter-widgets/controls",
          "model_name": "ProgressStyleModel",
          "model_module_version": "1.5.0",
          "state": {
            "_model_module": "@jupyter-widgets/controls",
            "_model_module_version": "1.5.0",
            "_model_name": "ProgressStyleModel",
            "_view_count": null,
            "_view_module": "@jupyter-widgets/base",
            "_view_module_version": "1.2.0",
            "_view_name": "StyleView",
            "bar_color": null,
            "description_width": ""
          }
        },
        "e3adf5d545aa43da9d0e61a7742bebfa": {
          "model_module": "@jupyter-widgets/base",
          "model_name": "LayoutModel",
          "model_module_version": "1.2.0",
          "state": {
            "_model_module": "@jupyter-widgets/base",
            "_model_module_version": "1.2.0",
            "_model_name": "LayoutModel",
            "_view_count": null,
            "_view_module": "@jupyter-widgets/base",
            "_view_module_version": "1.2.0",
            "_view_name": "LayoutView",
            "align_content": null,
            "align_items": null,
            "align_self": null,
            "border": null,
            "bottom": null,
            "display": null,
            "flex": null,
            "flex_flow": null,
            "grid_area": null,
            "grid_auto_columns": null,
            "grid_auto_flow": null,
            "grid_auto_rows": null,
            "grid_column": null,
            "grid_gap": null,
            "grid_row": null,
            "grid_template_areas": null,
            "grid_template_columns": null,
            "grid_template_rows": null,
            "height": null,
            "justify_content": null,
            "justify_items": null,
            "left": null,
            "margin": null,
            "max_height": null,
            "max_width": null,
            "min_height": null,
            "min_width": null,
            "object_fit": null,
            "object_position": null,
            "order": null,
            "overflow": null,
            "overflow_x": null,
            "overflow_y": null,
            "padding": null,
            "right": null,
            "top": null,
            "visibility": null,
            "width": null
          }
        },
        "c5d19b49d51e4f9eb273088a7372449e": {
          "model_module": "@jupyter-widgets/controls",
          "model_name": "DescriptionStyleModel",
          "model_module_version": "1.5.0",
          "state": {
            "_model_module": "@jupyter-widgets/controls",
            "_model_module_version": "1.5.0",
            "_model_name": "DescriptionStyleModel",
            "_view_count": null,
            "_view_module": "@jupyter-widgets/base",
            "_view_module_version": "1.2.0",
            "_view_name": "StyleView",
            "description_width": ""
          }
        },
        "087b976842bf43e0aadb29377f202c63": {
          "model_module": "@jupyter-widgets/controls",
          "model_name": "HBoxModel",
          "model_module_version": "1.5.0",
          "state": {
            "_dom_classes": [],
            "_model_module": "@jupyter-widgets/controls",
            "_model_module_version": "1.5.0",
            "_model_name": "HBoxModel",
            "_view_count": null,
            "_view_module": "@jupyter-widgets/controls",
            "_view_module_version": "1.5.0",
            "_view_name": "HBoxView",
            "box_style": "",
            "children": [
              "IPY_MODEL_2085eacab0e74f75a44969ac47854a2f",
              "IPY_MODEL_d9830bedbdcd48f5ab023f1a298bf173",
              "IPY_MODEL_f35aee8aa18c4f1faca9e8f0ca6ab0f4"
            ],
            "layout": "IPY_MODEL_ed52d16e160e45729b69eaee6ccee53a"
          }
        },
        "2085eacab0e74f75a44969ac47854a2f": {
          "model_module": "@jupyter-widgets/controls",
          "model_name": "HTMLModel",
          "model_module_version": "1.5.0",
          "state": {
            "_dom_classes": [],
            "_model_module": "@jupyter-widgets/controls",
            "_model_module_version": "1.5.0",
            "_model_name": "HTMLModel",
            "_view_count": null,
            "_view_module": "@jupyter-widgets/controls",
            "_view_module_version": "1.5.0",
            "_view_name": "HTMLView",
            "description": "",
            "description_tooltip": null,
            "layout": "IPY_MODEL_6b80583b62ba4b138d86e2faf9969e57",
            "placeholder": "​",
            "style": "IPY_MODEL_d2dc1c3245954a8cb72885df54d58dca",
            "value": "Downloading config.json: 100%"
          }
        },
        "d9830bedbdcd48f5ab023f1a298bf173": {
          "model_module": "@jupyter-widgets/controls",
          "model_name": "FloatProgressModel",
          "model_module_version": "1.5.0",
          "state": {
            "_dom_classes": [],
            "_model_module": "@jupyter-widgets/controls",
            "_model_module_version": "1.5.0",
            "_model_name": "FloatProgressModel",
            "_view_count": null,
            "_view_module": "@jupyter-widgets/controls",
            "_view_module_version": "1.5.0",
            "_view_name": "ProgressView",
            "bar_style": "success",
            "description": "",
            "description_tooltip": null,
            "layout": "IPY_MODEL_ff9287df4c184c0eaa5cf7ddac0dbf4e",
            "max": 570,
            "min": 0,
            "orientation": "horizontal",
            "style": "IPY_MODEL_442abdebae4043d9ae4f10a1d9cc2ec6",
            "value": 570
          }
        },
        "f35aee8aa18c4f1faca9e8f0ca6ab0f4": {
          "model_module": "@jupyter-widgets/controls",
          "model_name": "HTMLModel",
          "model_module_version": "1.5.0",
          "state": {
            "_dom_classes": [],
            "_model_module": "@jupyter-widgets/controls",
            "_model_module_version": "1.5.0",
            "_model_name": "HTMLModel",
            "_view_count": null,
            "_view_module": "@jupyter-widgets/controls",
            "_view_module_version": "1.5.0",
            "_view_name": "HTMLView",
            "description": "",
            "description_tooltip": null,
            "layout": "IPY_MODEL_174f1479d70340cc9b780dab9b38781a",
            "placeholder": "​",
            "style": "IPY_MODEL_ee343f4af55b44e29d8deb2dd6e8f97c",
            "value": " 570/570 [00:00&lt;00:00, 8.21kB/s]"
          }
        },
        "ed52d16e160e45729b69eaee6ccee53a": {
          "model_module": "@jupyter-widgets/base",
          "model_name": "LayoutModel",
          "model_module_version": "1.2.0",
          "state": {
            "_model_module": "@jupyter-widgets/base",
            "_model_module_version": "1.2.0",
            "_model_name": "LayoutModel",
            "_view_count": null,
            "_view_module": "@jupyter-widgets/base",
            "_view_module_version": "1.2.0",
            "_view_name": "LayoutView",
            "align_content": null,
            "align_items": null,
            "align_self": null,
            "border": null,
            "bottom": null,
            "display": null,
            "flex": null,
            "flex_flow": null,
            "grid_area": null,
            "grid_auto_columns": null,
            "grid_auto_flow": null,
            "grid_auto_rows": null,
            "grid_column": null,
            "grid_gap": null,
            "grid_row": null,
            "grid_template_areas": null,
            "grid_template_columns": null,
            "grid_template_rows": null,
            "height": null,
            "justify_content": null,
            "justify_items": null,
            "left": null,
            "margin": null,
            "max_height": null,
            "max_width": null,
            "min_height": null,
            "min_width": null,
            "object_fit": null,
            "object_position": null,
            "order": null,
            "overflow": null,
            "overflow_x": null,
            "overflow_y": null,
            "padding": null,
            "right": null,
            "top": null,
            "visibility": null,
            "width": null
          }
        },
        "6b80583b62ba4b138d86e2faf9969e57": {
          "model_module": "@jupyter-widgets/base",
          "model_name": "LayoutModel",
          "model_module_version": "1.2.0",
          "state": {
            "_model_module": "@jupyter-widgets/base",
            "_model_module_version": "1.2.0",
            "_model_name": "LayoutModel",
            "_view_count": null,
            "_view_module": "@jupyter-widgets/base",
            "_view_module_version": "1.2.0",
            "_view_name": "LayoutView",
            "align_content": null,
            "align_items": null,
            "align_self": null,
            "border": null,
            "bottom": null,
            "display": null,
            "flex": null,
            "flex_flow": null,
            "grid_area": null,
            "grid_auto_columns": null,
            "grid_auto_flow": null,
            "grid_auto_rows": null,
            "grid_column": null,
            "grid_gap": null,
            "grid_row": null,
            "grid_template_areas": null,
            "grid_template_columns": null,
            "grid_template_rows": null,
            "height": null,
            "justify_content": null,
            "justify_items": null,
            "left": null,
            "margin": null,
            "max_height": null,
            "max_width": null,
            "min_height": null,
            "min_width": null,
            "object_fit": null,
            "object_position": null,
            "order": null,
            "overflow": null,
            "overflow_x": null,
            "overflow_y": null,
            "padding": null,
            "right": null,
            "top": null,
            "visibility": null,
            "width": null
          }
        },
        "d2dc1c3245954a8cb72885df54d58dca": {
          "model_module": "@jupyter-widgets/controls",
          "model_name": "DescriptionStyleModel",
          "model_module_version": "1.5.0",
          "state": {
            "_model_module": "@jupyter-widgets/controls",
            "_model_module_version": "1.5.0",
            "_model_name": "DescriptionStyleModel",
            "_view_count": null,
            "_view_module": "@jupyter-widgets/base",
            "_view_module_version": "1.2.0",
            "_view_name": "StyleView",
            "description_width": ""
          }
        },
        "ff9287df4c184c0eaa5cf7ddac0dbf4e": {
          "model_module": "@jupyter-widgets/base",
          "model_name": "LayoutModel",
          "model_module_version": "1.2.0",
          "state": {
            "_model_module": "@jupyter-widgets/base",
            "_model_module_version": "1.2.0",
            "_model_name": "LayoutModel",
            "_view_count": null,
            "_view_module": "@jupyter-widgets/base",
            "_view_module_version": "1.2.0",
            "_view_name": "LayoutView",
            "align_content": null,
            "align_items": null,
            "align_self": null,
            "border": null,
            "bottom": null,
            "display": null,
            "flex": null,
            "flex_flow": null,
            "grid_area": null,
            "grid_auto_columns": null,
            "grid_auto_flow": null,
            "grid_auto_rows": null,
            "grid_column": null,
            "grid_gap": null,
            "grid_row": null,
            "grid_template_areas": null,
            "grid_template_columns": null,
            "grid_template_rows": null,
            "height": null,
            "justify_content": null,
            "justify_items": null,
            "left": null,
            "margin": null,
            "max_height": null,
            "max_width": null,
            "min_height": null,
            "min_width": null,
            "object_fit": null,
            "object_position": null,
            "order": null,
            "overflow": null,
            "overflow_x": null,
            "overflow_y": null,
            "padding": null,
            "right": null,
            "top": null,
            "visibility": null,
            "width": null
          }
        },
        "442abdebae4043d9ae4f10a1d9cc2ec6": {
          "model_module": "@jupyter-widgets/controls",
          "model_name": "ProgressStyleModel",
          "model_module_version": "1.5.0",
          "state": {
            "_model_module": "@jupyter-widgets/controls",
            "_model_module_version": "1.5.0",
            "_model_name": "ProgressStyleModel",
            "_view_count": null,
            "_view_module": "@jupyter-widgets/base",
            "_view_module_version": "1.2.0",
            "_view_name": "StyleView",
            "bar_color": null,
            "description_width": ""
          }
        },
        "174f1479d70340cc9b780dab9b38781a": {
          "model_module": "@jupyter-widgets/base",
          "model_name": "LayoutModel",
          "model_module_version": "1.2.0",
          "state": {
            "_model_module": "@jupyter-widgets/base",
            "_model_module_version": "1.2.0",
            "_model_name": "LayoutModel",
            "_view_count": null,
            "_view_module": "@jupyter-widgets/base",
            "_view_module_version": "1.2.0",
            "_view_name": "LayoutView",
            "align_content": null,
            "align_items": null,
            "align_self": null,
            "border": null,
            "bottom": null,
            "display": null,
            "flex": null,
            "flex_flow": null,
            "grid_area": null,
            "grid_auto_columns": null,
            "grid_auto_flow": null,
            "grid_auto_rows": null,
            "grid_column": null,
            "grid_gap": null,
            "grid_row": null,
            "grid_template_areas": null,
            "grid_template_columns": null,
            "grid_template_rows": null,
            "height": null,
            "justify_content": null,
            "justify_items": null,
            "left": null,
            "margin": null,
            "max_height": null,
            "max_width": null,
            "min_height": null,
            "min_width": null,
            "object_fit": null,
            "object_position": null,
            "order": null,
            "overflow": null,
            "overflow_x": null,
            "overflow_y": null,
            "padding": null,
            "right": null,
            "top": null,
            "visibility": null,
            "width": null
          }
        },
        "ee343f4af55b44e29d8deb2dd6e8f97c": {
          "model_module": "@jupyter-widgets/controls",
          "model_name": "DescriptionStyleModel",
          "model_module_version": "1.5.0",
          "state": {
            "_model_module": "@jupyter-widgets/controls",
            "_model_module_version": "1.5.0",
            "_model_name": "DescriptionStyleModel",
            "_view_count": null,
            "_view_module": "@jupyter-widgets/base",
            "_view_module_version": "1.2.0",
            "_view_name": "StyleView",
            "description_width": ""
          }
        },
        "f0c021e6886f48c3b708e52916b318b5": {
          "model_module": "@jupyter-widgets/controls",
          "model_name": "HBoxModel",
          "model_module_version": "1.5.0",
          "state": {
            "_dom_classes": [],
            "_model_module": "@jupyter-widgets/controls",
            "_model_module_version": "1.5.0",
            "_model_name": "HBoxModel",
            "_view_count": null,
            "_view_module": "@jupyter-widgets/controls",
            "_view_module_version": "1.5.0",
            "_view_name": "HBoxView",
            "box_style": "",
            "children": [
              "IPY_MODEL_65ed7adeb52e44f1850b772b00884502",
              "IPY_MODEL_83e7368bdde745478402e5558225a742",
              "IPY_MODEL_5941c7520db848dc9d447165c9f69e5b"
            ],
            "layout": "IPY_MODEL_c1fc9c27c0b148b59af7a5217e0a0822"
          }
        },
        "65ed7adeb52e44f1850b772b00884502": {
          "model_module": "@jupyter-widgets/controls",
          "model_name": "HTMLModel",
          "model_module_version": "1.5.0",
          "state": {
            "_dom_classes": [],
            "_model_module": "@jupyter-widgets/controls",
            "_model_module_version": "1.5.0",
            "_model_name": "HTMLModel",
            "_view_count": null,
            "_view_module": "@jupyter-widgets/controls",
            "_view_module_version": "1.5.0",
            "_view_name": "HTMLView",
            "description": "",
            "description_tooltip": null,
            "layout": "IPY_MODEL_92639d173fc948008fda424de0dd1243",
            "placeholder": "​",
            "style": "IPY_MODEL_34f92a61863f4bb68d3fb4d5e769c7de",
            "value": "Downloading pytorch_model.bin: 100%"
          }
        },
        "83e7368bdde745478402e5558225a742": {
          "model_module": "@jupyter-widgets/controls",
          "model_name": "FloatProgressModel",
          "model_module_version": "1.5.0",
          "state": {
            "_dom_classes": [],
            "_model_module": "@jupyter-widgets/controls",
            "_model_module_version": "1.5.0",
            "_model_name": "FloatProgressModel",
            "_view_count": null,
            "_view_module": "@jupyter-widgets/controls",
            "_view_module_version": "1.5.0",
            "_view_name": "ProgressView",
            "bar_style": "success",
            "description": "",
            "description_tooltip": null,
            "layout": "IPY_MODEL_890e5464c5a64aefa32b7174b0ad2824",
            "max": 440473133,
            "min": 0,
            "orientation": "horizontal",
            "style": "IPY_MODEL_9f9962a0cdfb45ac80e0a774c037f4d2",
            "value": 440473133
          }
        },
        "5941c7520db848dc9d447165c9f69e5b": {
          "model_module": "@jupyter-widgets/controls",
          "model_name": "HTMLModel",
          "model_module_version": "1.5.0",
          "state": {
            "_dom_classes": [],
            "_model_module": "@jupyter-widgets/controls",
            "_model_module_version": "1.5.0",
            "_model_name": "HTMLModel",
            "_view_count": null,
            "_view_module": "@jupyter-widgets/controls",
            "_view_module_version": "1.5.0",
            "_view_name": "HTMLView",
            "description": "",
            "description_tooltip": null,
            "layout": "IPY_MODEL_6b3e0b4cca684c229aa8c5c20f250649",
            "placeholder": "​",
            "style": "IPY_MODEL_1454f075c022488f823decac9cb924e0",
            "value": " 420M/420M [00:39&lt;00:00, 26.0MB/s]"
          }
        },
        "c1fc9c27c0b148b59af7a5217e0a0822": {
          "model_module": "@jupyter-widgets/base",
          "model_name": "LayoutModel",
          "model_module_version": "1.2.0",
          "state": {
            "_model_module": "@jupyter-widgets/base",
            "_model_module_version": "1.2.0",
            "_model_name": "LayoutModel",
            "_view_count": null,
            "_view_module": "@jupyter-widgets/base",
            "_view_module_version": "1.2.0",
            "_view_name": "LayoutView",
            "align_content": null,
            "align_items": null,
            "align_self": null,
            "border": null,
            "bottom": null,
            "display": null,
            "flex": null,
            "flex_flow": null,
            "grid_area": null,
            "grid_auto_columns": null,
            "grid_auto_flow": null,
            "grid_auto_rows": null,
            "grid_column": null,
            "grid_gap": null,
            "grid_row": null,
            "grid_template_areas": null,
            "grid_template_columns": null,
            "grid_template_rows": null,
            "height": null,
            "justify_content": null,
            "justify_items": null,
            "left": null,
            "margin": null,
            "max_height": null,
            "max_width": null,
            "min_height": null,
            "min_width": null,
            "object_fit": null,
            "object_position": null,
            "order": null,
            "overflow": null,
            "overflow_x": null,
            "overflow_y": null,
            "padding": null,
            "right": null,
            "top": null,
            "visibility": null,
            "width": null
          }
        },
        "92639d173fc948008fda424de0dd1243": {
          "model_module": "@jupyter-widgets/base",
          "model_name": "LayoutModel",
          "model_module_version": "1.2.0",
          "state": {
            "_model_module": "@jupyter-widgets/base",
            "_model_module_version": "1.2.0",
            "_model_name": "LayoutModel",
            "_view_count": null,
            "_view_module": "@jupyter-widgets/base",
            "_view_module_version": "1.2.0",
            "_view_name": "LayoutView",
            "align_content": null,
            "align_items": null,
            "align_self": null,
            "border": null,
            "bottom": null,
            "display": null,
            "flex": null,
            "flex_flow": null,
            "grid_area": null,
            "grid_auto_columns": null,
            "grid_auto_flow": null,
            "grid_auto_rows": null,
            "grid_column": null,
            "grid_gap": null,
            "grid_row": null,
            "grid_template_areas": null,
            "grid_template_columns": null,
            "grid_template_rows": null,
            "height": null,
            "justify_content": null,
            "justify_items": null,
            "left": null,
            "margin": null,
            "max_height": null,
            "max_width": null,
            "min_height": null,
            "min_width": null,
            "object_fit": null,
            "object_position": null,
            "order": null,
            "overflow": null,
            "overflow_x": null,
            "overflow_y": null,
            "padding": null,
            "right": null,
            "top": null,
            "visibility": null,
            "width": null
          }
        },
        "34f92a61863f4bb68d3fb4d5e769c7de": {
          "model_module": "@jupyter-widgets/controls",
          "model_name": "DescriptionStyleModel",
          "model_module_version": "1.5.0",
          "state": {
            "_model_module": "@jupyter-widgets/controls",
            "_model_module_version": "1.5.0",
            "_model_name": "DescriptionStyleModel",
            "_view_count": null,
            "_view_module": "@jupyter-widgets/base",
            "_view_module_version": "1.2.0",
            "_view_name": "StyleView",
            "description_width": ""
          }
        },
        "890e5464c5a64aefa32b7174b0ad2824": {
          "model_module": "@jupyter-widgets/base",
          "model_name": "LayoutModel",
          "model_module_version": "1.2.0",
          "state": {
            "_model_module": "@jupyter-widgets/base",
            "_model_module_version": "1.2.0",
            "_model_name": "LayoutModel",
            "_view_count": null,
            "_view_module": "@jupyter-widgets/base",
            "_view_module_version": "1.2.0",
            "_view_name": "LayoutView",
            "align_content": null,
            "align_items": null,
            "align_self": null,
            "border": null,
            "bottom": null,
            "display": null,
            "flex": null,
            "flex_flow": null,
            "grid_area": null,
            "grid_auto_columns": null,
            "grid_auto_flow": null,
            "grid_auto_rows": null,
            "grid_column": null,
            "grid_gap": null,
            "grid_row": null,
            "grid_template_areas": null,
            "grid_template_columns": null,
            "grid_template_rows": null,
            "height": null,
            "justify_content": null,
            "justify_items": null,
            "left": null,
            "margin": null,
            "max_height": null,
            "max_width": null,
            "min_height": null,
            "min_width": null,
            "object_fit": null,
            "object_position": null,
            "order": null,
            "overflow": null,
            "overflow_x": null,
            "overflow_y": null,
            "padding": null,
            "right": null,
            "top": null,
            "visibility": null,
            "width": null
          }
        },
        "9f9962a0cdfb45ac80e0a774c037f4d2": {
          "model_module": "@jupyter-widgets/controls",
          "model_name": "ProgressStyleModel",
          "model_module_version": "1.5.0",
          "state": {
            "_model_module": "@jupyter-widgets/controls",
            "_model_module_version": "1.5.0",
            "_model_name": "ProgressStyleModel",
            "_view_count": null,
            "_view_module": "@jupyter-widgets/base",
            "_view_module_version": "1.2.0",
            "_view_name": "StyleView",
            "bar_color": null,
            "description_width": ""
          }
        },
        "6b3e0b4cca684c229aa8c5c20f250649": {
          "model_module": "@jupyter-widgets/base",
          "model_name": "LayoutModel",
          "model_module_version": "1.2.0",
          "state": {
            "_model_module": "@jupyter-widgets/base",
            "_model_module_version": "1.2.0",
            "_model_name": "LayoutModel",
            "_view_count": null,
            "_view_module": "@jupyter-widgets/base",
            "_view_module_version": "1.2.0",
            "_view_name": "LayoutView",
            "align_content": null,
            "align_items": null,
            "align_self": null,
            "border": null,
            "bottom": null,
            "display": null,
            "flex": null,
            "flex_flow": null,
            "grid_area": null,
            "grid_auto_columns": null,
            "grid_auto_flow": null,
            "grid_auto_rows": null,
            "grid_column": null,
            "grid_gap": null,
            "grid_row": null,
            "grid_template_areas": null,
            "grid_template_columns": null,
            "grid_template_rows": null,
            "height": null,
            "justify_content": null,
            "justify_items": null,
            "left": null,
            "margin": null,
            "max_height": null,
            "max_width": null,
            "min_height": null,
            "min_width": null,
            "object_fit": null,
            "object_position": null,
            "order": null,
            "overflow": null,
            "overflow_x": null,
            "overflow_y": null,
            "padding": null,
            "right": null,
            "top": null,
            "visibility": null,
            "width": null
          }
        },
        "1454f075c022488f823decac9cb924e0": {
          "model_module": "@jupyter-widgets/controls",
          "model_name": "DescriptionStyleModel",
          "model_module_version": "1.5.0",
          "state": {
            "_model_module": "@jupyter-widgets/controls",
            "_model_module_version": "1.5.0",
            "_model_name": "DescriptionStyleModel",
            "_view_count": null,
            "_view_module": "@jupyter-widgets/base",
            "_view_module_version": "1.2.0",
            "_view_name": "StyleView",
            "description_width": ""
          }
        }
      }
    }
  },
  "nbformat": 4,
  "nbformat_minor": 0
}